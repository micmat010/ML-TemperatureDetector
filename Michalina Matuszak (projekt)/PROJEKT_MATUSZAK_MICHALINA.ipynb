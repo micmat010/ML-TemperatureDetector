{
 "cells": [
  {
   "cell_type": "markdown",
   "id": "experienced-hearts",
   "metadata": {},
   "source": [
    "# Projekt - `Eksploracyjna analiza danych`"
   ]
  },
  {
   "cell_type": "markdown",
   "id": "extensive-python",
   "metadata": {},
   "source": [
    "### Michalina Matuszak\n",
    "#### *Uniwersytet Technologiczno-Przyrodniczy*"
   ]
  },
  {
   "cell_type": "markdown",
   "id": "norwegian-morocco",
   "metadata": {},
   "source": [
    "    Cel projektu:\n",
    "    1. Dokonać szczegółowej, eksploracyjnej analizy danych\n",
    "    2. Zbadać w jaki sposób wykrywać fakt, że temperatura może wzrosnąć o zadany poziom\n",
    "    3. Przewidzieć fakt, że temperatura może wzrosnąć powyżej zadanego poziomu.\n",
    "    4. Zaproponować rozwiązanie, które poprawi parametry.\n"
   ]
  },
  {
   "cell_type": "code",
   "execution_count": 1,
   "id": "identical-river",
   "metadata": {},
   "outputs": [],
   "source": [
    "#import bibliotek\n",
    "import numpy as np\n",
    "import pandas as pd\n",
    "%matplotlib inline\n",
    "import matplotlib\n",
    "import matplotlib.pyplot as plt\n",
    "import seaborn as sns\n",
    "import datetime\n",
    "from functools import reduce\n",
    "import scipy"
   ]
  },
  {
   "cell_type": "markdown",
   "id": "bacterial-issue",
   "metadata": {},
   "source": [
    "### Import wszystkich plikow CSV:"
   ]
  },
  {
   "cell_type": "code",
   "execution_count": 2,
   "id": "dated-biodiversity",
   "metadata": {},
   "outputs": [],
   "source": [
    "#temperatura\n",
    "t_gabinet = pd.read_csv('C:/Users/MSI-PC/WDUM/Eksploracyjna/dane/Temperatura_Gabinet.csv')\n",
    "t_gsypialnia = pd.read_csv('C:/Users/MSI-PC/WDUM/Eksploracyjna/dane/Temperatura_GlownaSypialnia.csv')\n",
    "t_hol = pd.read_csv('C:/Users/MSI-PC/WDUM/Eksploracyjna/dane/Temperatura_Hol.csv')\n",
    "t_lazienka = pd.read_csv('C:/Users/MSI-PC/WDUM/Eksploracyjna/dane/Temperatura_LazienkaGorna.csv')\n",
    "t_salon = pd.read_csv('C:/Users/MSI-PC/WDUM/Eksploracyjna/dane/Temperatura_Salon.csv')\n",
    "t_sypialnia = pd.read_csv('C:/Users/MSI-PC/WDUM/Eksploracyjna/dane/Temperatura_Sypialnia.csv')\n",
    "t_zew = pd.read_csv('C:/Users/MSI-PC/WDUM/Eksploracyjna/dane/TemperaturaZewnetrzna.csv')"
   ]
  },
  {
   "cell_type": "code",
   "execution_count": 3,
   "id": "grave-benefit",
   "metadata": {},
   "outputs": [],
   "source": [
    "#grzejniki\n",
    "g_gabinet = pd.read_csv('C:/Users/MSI-PC/WDUM/Eksploracyjna/dane/Grzejnik_Gabinet.csv')\n",
    "g_gsypialnia = pd.read_csv('C:/Users/MSI-PC/WDUM/Eksploracyjna/dane/Grzejnik_Glowna_Sypialnia.csv')\n",
    "g_lazienka = pd.read_csv('C:/Users/MSI-PC/WDUM/Eksploracyjna/dane/Grzejnik_LazienkaGorna_Podlogowka.csv')\n",
    "g_hol = pd.read_csv('C:/Users/MSI-PC/WDUM/Eksploracyjna/dane/Grzejnik_Parter_Podlogowka.csv')\n",
    "g_salon = pd.read_csv('C:/Users/MSI-PC/WDUM/Eksploracyjna/dane/Grzejnik_Salon.csv')\n",
    "g_sypialnia = pd.read_csv('C:/Users/MSI-PC/WDUM/Eksploracyjna/dane/Grzejnik_Sypialnia.csv')\n",
    "g_blokada_kotla = pd.read_csv('C:/Users/MSI-PC/WDUM/Eksploracyjna/dane/Grzejnik_BlokadaKotlaCO.csv')"
   ]
  },
  {
   "cell_type": "code",
   "execution_count": 4,
   "id": "dietary-layer",
   "metadata": {},
   "outputs": [],
   "source": [
    "#set-pointy\n",
    "sp_gabinet = pd.read_csv('C:/Users/MSI-PC/WDUM/Eksploracyjna/dane/Setpoint_Gabinet.csv')\n",
    "sp_gsypialnia = pd.read_csv('C:/Users/MSI-PC/WDUM/Eksploracyjna/dane/Setpoint_GlownaSypialnia.csv')\n",
    "sp_hol = pd.read_csv('C:/Users/MSI-PC/WDUM/Eksploracyjna/dane/Setpoint_Hol.csv')\n",
    "sp_lazienka = pd.read_csv('C:/Users/MSI-PC/WDUM/Eksploracyjna/dane/Setpoint_LazienkaGorna.csv')\n",
    "sp_salon = pd.read_csv('C:/Users/MSI-PC/WDUM/Eksploracyjna/dane/Setpoint_Salon.csv')\n",
    "sp_sypialnia = pd.read_csv('C:/Users/MSI-PC/WDUM/Eksploracyjna/dane/Setpoint_Sypialnia.csv')"
   ]
  },
  {
   "cell_type": "code",
   "execution_count": 5,
   "id": "authentic-nursing",
   "metadata": {},
   "outputs": [],
   "source": [
    "#tryby\n",
    "tryb_gabinet = pd.read_csv('C:/Users/MSI-PC/WDUM/Eksploracyjna/dane/Tryb_Gabinet.csv')\n",
    "tryb_gsypialnia = pd.read_csv('C:/Users/MSI-PC/WDUM/Eksploracyjna/dane/Tryb_GlownaSypialnia.csv')\n",
    "tryb_hol = pd.read_csv('C:/Users/MSI-PC/WDUM/Eksploracyjna/dane/Tryb_Hol.csv')\n",
    "tryb_lazienka = pd.read_csv('C:/Users/MSI-PC/WDUM/Eksploracyjna/dane/Tryb_LazienkaGorna.csv')\n",
    "tryb_salon = pd.read_csv('C:/Users/MSI-PC/WDUM/Eksploracyjna/dane/Tryb_Salon.csv')\n",
    "tryb_sypialnia = pd.read_csv('C:/Users/MSI-PC/WDUM/Eksploracyjna/dane/Tryb_Sypialnia.csv')"
   ]
  },
  {
   "cell_type": "code",
   "execution_count": 6,
   "id": "geographic-estimate",
   "metadata": {},
   "outputs": [],
   "source": [
    "#zewnetrzne\n",
    "blok_g = pd.read_csv('C:/Users/MSI-PC/WDUM/Eksploracyjna/dane/Centralne_BlokadaOgrzewania.csv')\n",
    "cis_atm = pd.read_csv('C:/Users/MSI-PC/WDUM/Eksploracyjna/dane/CisnienieAtmosferyczne.csv')\n",
    "czujnik_deszczu = pd.read_csv('C:/Users/MSI-PC/WDUM/Eksploracyjna/dane/EGardenCzujnikDeszczu.csv')\n",
    "wiglotnosc = pd.read_csv('C:/Users/MSI-PC/WDUM/Eksploracyjna/dane/WilgotnoWzglendna.csv')"
   ]
  },
  {
   "cell_type": "markdown",
   "id": "funded-sharp",
   "metadata": {},
   "source": [
    "### Obróbka danych"
   ]
  },
  {
   "cell_type": "markdown",
   "id": "complex-palestinian",
   "metadata": {},
   "source": [
    "**Lista zawierająca nazwy wszystkich DataFrames załadowanych do pamięci**"
   ]
  },
  {
   "cell_type": "code",
   "execution_count": 7,
   "id": "wound-appraisal",
   "metadata": {},
   "outputs": [],
   "source": [
    "list = []\n",
    "list = %who_ls DataFrame"
   ]
  },
  {
   "cell_type": "markdown",
   "id": "wrapped-league",
   "metadata": {},
   "source": [
    "**Zmiana formatu czasu każdej DataFrame załadowanej do pamięci**"
   ]
  },
  {
   "cell_type": "code",
   "execution_count": 8,
   "id": "binary-fellowship",
   "metadata": {},
   "outputs": [],
   "source": [
    "#for x in list:\n",
    "#    globals()[x]['time']=pd.to_datetime(globals()[x]['time']).astype('datetime64[s]')"
   ]
  },
  {
   "cell_type": "markdown",
   "id": "alert-comparison",
   "metadata": {},
   "source": [
    "**Zaokrąglanie do jednego miejsca po przecinku wartosci temperatur**"
   ]
  },
  {
   "cell_type": "code",
   "execution_count": 9,
   "id": "hydraulic-talent",
   "metadata": {},
   "outputs": [],
   "source": [
    "for x in list:\n",
    "    globals()[x]['value'].round(decimals=1)"
   ]
  },
  {
   "cell_type": "markdown",
   "id": "thousand-elements",
   "metadata": {},
   "source": [
    "**Usuwanie niepotrzebnych spacji z nazwy kolumny (bo był problem z komendą del)**"
   ]
  },
  {
   "cell_type": "code",
   "execution_count": 10,
   "id": "animal-blame",
   "metadata": {},
   "outputs": [],
   "source": [
    "for x in list:\n",
    "    globals()[x].columns =  globals()[x].columns.str.strip()"
   ]
  },
  {
   "cell_type": "markdown",
   "id": "split-project",
   "metadata": {},
   "source": [
    "**Usuwanie kolumny name**"
   ]
  },
  {
   "cell_type": "code",
   "execution_count": 11,
   "id": "charged-champion",
   "metadata": {},
   "outputs": [],
   "source": [
    "for x in list:\n",
    "    del globals()[x]['name']"
   ]
  },
  {
   "cell_type": "markdown",
   "id": "played-mexico",
   "metadata": {},
   "source": [
    "**Zmiana nazwy kolumny wartości (zeby bylo wiadomo po późniejszym łączeniu tabel ktore wartosci są z którego pliku)**"
   ]
  },
  {
   "cell_type": "code",
   "execution_count": 12,
   "id": "basic-firmware",
   "metadata": {},
   "outputs": [],
   "source": [
    "for x in list:\n",
    "    globals()[x].rename(columns={'value': x}, inplace=True)"
   ]
  },
  {
   "cell_type": "markdown",
   "id": "stylish-spank",
   "metadata": {},
   "source": [
    "**Łączenie wartości temperatury w jeden dataframe**"
   ]
  },
  {
   "cell_type": "code",
   "execution_count": 13,
   "id": "satellite-tactics",
   "metadata": {},
   "outputs": [],
   "source": [
    "#głównie po to, aby zobaczyć czy istnieją jakieś zależności pomiędzy poszczególnymi pokojami\n",
    "#zbadać czy wartosci temperatur nie odbiegają za bardzo od siebie\n",
    "#po połączeniu w jeden DataFrame wartości odpowiadają sobie wzajemnie wzgledem czasu\n",
    "\n",
    "t_list = [t_gabinet,t_gsypialnia,t_hol,t_lazienka,t_salon,t_sypialnia]\n",
    "left = t_zew\n",
    "for i in t_list:\n",
    "    right= i\n",
    "    temp_df = pd.merge_asof(left,right,on=['time'])\n",
    "    left = temp_df"
   ]
  },
  {
   "cell_type": "markdown",
   "id": "governmental-deputy",
   "metadata": {},
   "source": [
    "**Tabela korelacji:**"
   ]
  },
  {
   "cell_type": "code",
   "execution_count": 14,
   "id": "closing-communication",
   "metadata": {},
   "outputs": [
    {
     "data": {
      "text/html": [
       "<div>\n",
       "<style scoped>\n",
       "    .dataframe tbody tr th:only-of-type {\n",
       "        vertical-align: middle;\n",
       "    }\n",
       "\n",
       "    .dataframe tbody tr th {\n",
       "        vertical-align: top;\n",
       "    }\n",
       "\n",
       "    .dataframe thead th {\n",
       "        text-align: right;\n",
       "    }\n",
       "</style>\n",
       "<table border=\"1\" class=\"dataframe\">\n",
       "  <thead>\n",
       "    <tr style=\"text-align: right;\">\n",
       "      <th></th>\n",
       "      <th>time</th>\n",
       "      <th>t_zew</th>\n",
       "      <th>t_gabinet</th>\n",
       "      <th>t_gsypialnia</th>\n",
       "      <th>t_hol</th>\n",
       "      <th>t_lazienka</th>\n",
       "      <th>t_salon</th>\n",
       "      <th>t_sypialnia</th>\n",
       "    </tr>\n",
       "  </thead>\n",
       "  <tbody>\n",
       "    <tr>\n",
       "      <th>time</th>\n",
       "      <td>1.000000</td>\n",
       "      <td>-0.784574</td>\n",
       "      <td>-0.087507</td>\n",
       "      <td>-0.366536</td>\n",
       "      <td>-0.089271</td>\n",
       "      <td>0.020212</td>\n",
       "      <td>-0.161204</td>\n",
       "      <td>-0.216211</td>\n",
       "    </tr>\n",
       "    <tr>\n",
       "      <th>t_zew</th>\n",
       "      <td>-0.784574</td>\n",
       "      <td>1.000000</td>\n",
       "      <td>0.147002</td>\n",
       "      <td>0.379454</td>\n",
       "      <td>0.170891</td>\n",
       "      <td>0.099383</td>\n",
       "      <td>0.193536</td>\n",
       "      <td>0.302012</td>\n",
       "    </tr>\n",
       "    <tr>\n",
       "      <th>t_gabinet</th>\n",
       "      <td>-0.087507</td>\n",
       "      <td>0.147002</td>\n",
       "      <td>1.000000</td>\n",
       "      <td>0.549522</td>\n",
       "      <td>0.656367</td>\n",
       "      <td>0.772316</td>\n",
       "      <td>0.649485</td>\n",
       "      <td>0.772044</td>\n",
       "    </tr>\n",
       "    <tr>\n",
       "      <th>t_gsypialnia</th>\n",
       "      <td>-0.366536</td>\n",
       "      <td>0.379454</td>\n",
       "      <td>0.549522</td>\n",
       "      <td>1.000000</td>\n",
       "      <td>0.512856</td>\n",
       "      <td>0.469121</td>\n",
       "      <td>0.550314</td>\n",
       "      <td>0.726729</td>\n",
       "    </tr>\n",
       "    <tr>\n",
       "      <th>t_hol</th>\n",
       "      <td>-0.089271</td>\n",
       "      <td>0.170891</td>\n",
       "      <td>0.656367</td>\n",
       "      <td>0.512856</td>\n",
       "      <td>1.000000</td>\n",
       "      <td>0.690434</td>\n",
       "      <td>0.783320</td>\n",
       "      <td>0.745247</td>\n",
       "    </tr>\n",
       "    <tr>\n",
       "      <th>t_lazienka</th>\n",
       "      <td>0.020212</td>\n",
       "      <td>0.099383</td>\n",
       "      <td>0.772316</td>\n",
       "      <td>0.469121</td>\n",
       "      <td>0.690434</td>\n",
       "      <td>1.000000</td>\n",
       "      <td>0.615483</td>\n",
       "      <td>0.724650</td>\n",
       "    </tr>\n",
       "    <tr>\n",
       "      <th>t_salon</th>\n",
       "      <td>-0.161204</td>\n",
       "      <td>0.193536</td>\n",
       "      <td>0.649485</td>\n",
       "      <td>0.550314</td>\n",
       "      <td>0.783320</td>\n",
       "      <td>0.615483</td>\n",
       "      <td>1.000000</td>\n",
       "      <td>0.749787</td>\n",
       "    </tr>\n",
       "    <tr>\n",
       "      <th>t_sypialnia</th>\n",
       "      <td>-0.216211</td>\n",
       "      <td>0.302012</td>\n",
       "      <td>0.772044</td>\n",
       "      <td>0.726729</td>\n",
       "      <td>0.745247</td>\n",
       "      <td>0.724650</td>\n",
       "      <td>0.749787</td>\n",
       "      <td>1.000000</td>\n",
       "    </tr>\n",
       "  </tbody>\n",
       "</table>\n",
       "</div>"
      ],
      "text/plain": [
       "                  time     t_zew  t_gabinet  t_gsypialnia     t_hol  \\\n",
       "time          1.000000 -0.784574  -0.087507     -0.366536 -0.089271   \n",
       "t_zew        -0.784574  1.000000   0.147002      0.379454  0.170891   \n",
       "t_gabinet    -0.087507  0.147002   1.000000      0.549522  0.656367   \n",
       "t_gsypialnia -0.366536  0.379454   0.549522      1.000000  0.512856   \n",
       "t_hol        -0.089271  0.170891   0.656367      0.512856  1.000000   \n",
       "t_lazienka    0.020212  0.099383   0.772316      0.469121  0.690434   \n",
       "t_salon      -0.161204  0.193536   0.649485      0.550314  0.783320   \n",
       "t_sypialnia  -0.216211  0.302012   0.772044      0.726729  0.745247   \n",
       "\n",
       "              t_lazienka   t_salon  t_sypialnia  \n",
       "time            0.020212 -0.161204    -0.216211  \n",
       "t_zew           0.099383  0.193536     0.302012  \n",
       "t_gabinet       0.772316  0.649485     0.772044  \n",
       "t_gsypialnia    0.469121  0.550314     0.726729  \n",
       "t_hol           0.690434  0.783320     0.745247  \n",
       "t_lazienka      1.000000  0.615483     0.724650  \n",
       "t_salon         0.615483  1.000000     0.749787  \n",
       "t_sypialnia     0.724650  0.749787     1.000000  "
      ]
     },
     "execution_count": 14,
     "metadata": {},
     "output_type": "execute_result"
    }
   ],
   "source": [
    "temp_df_correlation=temp_df.corr()\n",
    "temp_df_correlation"
   ]
  },
  {
   "cell_type": "markdown",
   "id": "prime-longitude",
   "metadata": {},
   "source": [
    "**Heatmapa korelacji**"
   ]
  },
  {
   "cell_type": "code",
   "execution_count": 15,
   "id": "characteristic-declaration",
   "metadata": {},
   "outputs": [
    {
     "data": {
      "text/plain": [
       "<AxesSubplot:>"
      ]
     },
     "execution_count": 15,
     "metadata": {},
     "output_type": "execute_result"
    },
    {
     "data": {
      "image/png": "[encoded data removed]",
      "text/plain": [
       "<Figure size 432x288 with 2 Axes>"
      ]
     },
     "metadata": {
      "needs_background": "light"
     },
     "output_type": "display_data"
    }
   ],
   "source": [
    "sns.heatmap(temp_df_correlation)"
   ]
  },
  {
   "cell_type": "markdown",
   "id": "indie-fellowship",
   "metadata": {},
   "source": [
    "**Wymiarowość**"
   ]
  },
  {
   "cell_type": "code",
   "execution_count": 16,
   "id": "automatic-bidder",
   "metadata": {},
   "outputs": [
    {
     "data": {
      "text/plain": [
       "(14165, 8)"
      ]
     },
     "execution_count": 16,
     "metadata": {},
     "output_type": "execute_result"
    }
   ],
   "source": [
    "temp_df.shape"
   ]
  },
  {
   "cell_type": "markdown",
   "id": "offensive-legend",
   "metadata": {},
   "source": [
    "**Czy są wartosci NaN**"
   ]
  },
  {
   "cell_type": "code",
   "execution_count": 17,
   "id": "direct-plenty",
   "metadata": {},
   "outputs": [
    {
     "data": {
      "text/plain": [
       "time            0\n",
       "t_zew           0\n",
       "t_gabinet       0\n",
       "t_gsypialnia    0\n",
       "t_hol           0\n",
       "t_lazienka      0\n",
       "t_salon         0\n",
       "t_sypialnia     0\n",
       "dtype: int64"
      ]
     },
     "execution_count": 17,
     "metadata": {},
     "output_type": "execute_result"
    }
   ],
   "source": [
    "temp_df.isnull().sum()"
   ]
  },
  {
   "cell_type": "markdown",
   "id": "eligible-desire",
   "metadata": {},
   "source": [
    "**Wartosci statystyczne**"
   ]
  },
  {
   "cell_type": "code",
   "execution_count": 18,
   "id": "relative-hunger",
   "metadata": {},
   "outputs": [
    {
     "data": {
      "text/html": [
       "<div>\n",
       "<style scoped>\n",
       "    .dataframe tbody tr th:only-of-type {\n",
       "        vertical-align: middle;\n",
       "    }\n",
       "\n",
       "    .dataframe tbody tr th {\n",
       "        vertical-align: top;\n",
       "    }\n",
       "\n",
       "    .dataframe thead th {\n",
       "        text-align: right;\n",
       "    }\n",
       "</style>\n",
       "<table border=\"1\" class=\"dataframe\">\n",
       "  <thead>\n",
       "    <tr style=\"text-align: right;\">\n",
       "      <th></th>\n",
       "      <th>time</th>\n",
       "      <th>t_zew</th>\n",
       "      <th>t_gabinet</th>\n",
       "      <th>t_gsypialnia</th>\n",
       "      <th>t_hol</th>\n",
       "      <th>t_lazienka</th>\n",
       "      <th>t_salon</th>\n",
       "      <th>t_sypialnia</th>\n",
       "    </tr>\n",
       "  </thead>\n",
       "  <tbody>\n",
       "    <tr>\n",
       "      <th>count</th>\n",
       "      <td>1.416500e+04</td>\n",
       "      <td>14165.000000</td>\n",
       "      <td>14165.000000</td>\n",
       "      <td>14165.000000</td>\n",
       "      <td>14165.000000</td>\n",
       "      <td>14165.000000</td>\n",
       "      <td>14165.000000</td>\n",
       "      <td>14165.000000</td>\n",
       "    </tr>\n",
       "    <tr>\n",
       "      <th>mean</th>\n",
       "      <td>1.605698e+18</td>\n",
       "      <td>5.514211</td>\n",
       "      <td>21.639463</td>\n",
       "      <td>21.820409</td>\n",
       "      <td>22.008097</td>\n",
       "      <td>22.093893</td>\n",
       "      <td>21.654169</td>\n",
       "      <td>22.227314</td>\n",
       "    </tr>\n",
       "    <tr>\n",
       "      <th>std</th>\n",
       "      <td>2.947339e+15</td>\n",
       "      <td>6.389213</td>\n",
       "      <td>0.463784</td>\n",
       "      <td>0.408050</td>\n",
       "      <td>0.404057</td>\n",
       "      <td>0.560762</td>\n",
       "      <td>0.366104</td>\n",
       "      <td>0.447026</td>\n",
       "    </tr>\n",
       "    <tr>\n",
       "      <th>min</th>\n",
       "      <td>1.601155e+18</td>\n",
       "      <td>-3.500000</td>\n",
       "      <td>19.400000</td>\n",
       "      <td>19.800000</td>\n",
       "      <td>20.300000</td>\n",
       "      <td>20.000000</td>\n",
       "      <td>18.500000</td>\n",
       "      <td>20.400000</td>\n",
       "    </tr>\n",
       "    <tr>\n",
       "      <th>25%</th>\n",
       "      <td>1.603119e+18</td>\n",
       "      <td>0.300000</td>\n",
       "      <td>21.400000</td>\n",
       "      <td>21.600000</td>\n",
       "      <td>21.700000</td>\n",
       "      <td>21.800000</td>\n",
       "      <td>21.500000</td>\n",
       "      <td>22.000000</td>\n",
       "    </tr>\n",
       "    <tr>\n",
       "      <th>50%</th>\n",
       "      <td>1.605501e+18</td>\n",
       "      <td>5.500000</td>\n",
       "      <td>21.800000</td>\n",
       "      <td>21.800000</td>\n",
       "      <td>22.100000</td>\n",
       "      <td>22.200000</td>\n",
       "      <td>21.700000</td>\n",
       "      <td>22.300000</td>\n",
       "    </tr>\n",
       "    <tr>\n",
       "      <th>75%</th>\n",
       "      <td>1.608245e+18</td>\n",
       "      <td>9.700000</td>\n",
       "      <td>22.000000</td>\n",
       "      <td>22.000000</td>\n",
       "      <td>22.300000</td>\n",
       "      <td>22.400000</td>\n",
       "      <td>21.900000</td>\n",
       "      <td>22.500000</td>\n",
       "    </tr>\n",
       "    <tr>\n",
       "      <th>max</th>\n",
       "      <td>1.611226e+18</td>\n",
       "      <td>190.300000</td>\n",
       "      <td>23.000000</td>\n",
       "      <td>23.000000</td>\n",
       "      <td>23.100000</td>\n",
       "      <td>26.600000</td>\n",
       "      <td>24.500000</td>\n",
       "      <td>23.700000</td>\n",
       "    </tr>\n",
       "  </tbody>\n",
       "</table>\n",
       "</div>"
      ],
      "text/plain": [
       "               time         t_zew     t_gabinet  t_gsypialnia         t_hol  \\\n",
       "count  1.416500e+04  14165.000000  14165.000000  14165.000000  14165.000000   \n",
       "mean   1.605698e+18      5.514211     21.639463     21.820409     22.008097   \n",
       "std    2.947339e+15      6.389213      0.463784      0.408050      0.404057   \n",
       "min    1.601155e+18     -3.500000     19.400000     19.800000     20.300000   \n",
       "25%    1.603119e+18      0.300000     21.400000     21.600000     21.700000   \n",
       "50%    1.605501e+18      5.500000     21.800000     21.800000     22.100000   \n",
       "75%    1.608245e+18      9.700000     22.000000     22.000000     22.300000   \n",
       "max    1.611226e+18    190.300000     23.000000     23.000000     23.100000   \n",
       "\n",
       "         t_lazienka       t_salon   t_sypialnia  \n",
       "count  14165.000000  14165.000000  14165.000000  \n",
       "mean      22.093893     21.654169     22.227314  \n",
       "std        0.560762      0.366104      0.447026  \n",
       "min       20.000000     18.500000     20.400000  \n",
       "25%       21.800000     21.500000     22.000000  \n",
       "50%       22.200000     21.700000     22.300000  \n",
       "75%       22.400000     21.900000     22.500000  \n",
       "max       26.600000     24.500000     23.700000  "
      ]
     },
     "execution_count": 18,
     "metadata": {},
     "output_type": "execute_result"
    }
   ],
   "source": [
    "temp_df.describe()\n",
    "\n",
    "#t_zew na pewno ma jakąś błędną odstającą wartość"
   ]
  },
  {
   "cell_type": "markdown",
   "id": "latin-meaning",
   "metadata": {},
   "source": [
    "**Boxplot**"
   ]
  },
  {
   "cell_type": "markdown",
   "id": "rolled-incident",
   "metadata": {},
   "source": [
    "**Jak widać na poniższym diagamie - występują wartości odbiegające**"
   ]
  },
  {
   "cell_type": "code",
   "execution_count": 19,
   "id": "equivalent-saturn",
   "metadata": {},
   "outputs": [
    {
     "data": {
      "text/plain": [
       "<AxesSubplot:>"
      ]
     },
     "execution_count": 19,
     "metadata": {},
     "output_type": "execute_result"
    },
    {
     "data": {
      "image/png": "[encoded data removed]",
      "text/plain": [
       "<Figure size 432x288 with 1 Axes>"
      ]
     },
     "metadata": {},
     "output_type": "display_data"
    }
   ],
   "source": [
    "sns.set_style(\"whitegrid\")\n",
    "sns.boxplot(data=temp_df['t_zew'])"
   ]
  },
  {
   "cell_type": "markdown",
   "id": "fluid-occupation",
   "metadata": {},
   "source": [
    "**Podstawowe informacje statystyczne**"
   ]
  },
  {
   "cell_type": "code",
   "execution_count": 20,
   "id": "recreational-sampling",
   "metadata": {},
   "outputs": [
    {
     "data": {
      "text/html": [
       "<div>\n",
       "<style scoped>\n",
       "    .dataframe tbody tr th:only-of-type {\n",
       "        vertical-align: middle;\n",
       "    }\n",
       "\n",
       "    .dataframe tbody tr th {\n",
       "        vertical-align: top;\n",
       "    }\n",
       "\n",
       "    .dataframe thead th {\n",
       "        text-align: right;\n",
       "    }\n",
       "</style>\n",
       "<table border=\"1\" class=\"dataframe\">\n",
       "  <thead>\n",
       "    <tr style=\"text-align: right;\">\n",
       "      <th></th>\n",
       "      <th>time</th>\n",
       "      <th>t_zew</th>\n",
       "      <th>t_gabinet</th>\n",
       "      <th>t_gsypialnia</th>\n",
       "      <th>t_hol</th>\n",
       "      <th>t_lazienka</th>\n",
       "      <th>t_salon</th>\n",
       "      <th>t_sypialnia</th>\n",
       "    </tr>\n",
       "  </thead>\n",
       "  <tbody>\n",
       "    <tr>\n",
       "      <th>count</th>\n",
       "      <td>1.416500e+04</td>\n",
       "      <td>14165.000000</td>\n",
       "      <td>14165.000000</td>\n",
       "      <td>14165.000000</td>\n",
       "      <td>14165.000000</td>\n",
       "      <td>14165.000000</td>\n",
       "      <td>14165.000000</td>\n",
       "      <td>14165.000000</td>\n",
       "    </tr>\n",
       "    <tr>\n",
       "      <th>mean</th>\n",
       "      <td>1.605698e+18</td>\n",
       "      <td>5.514211</td>\n",
       "      <td>21.639463</td>\n",
       "      <td>21.820409</td>\n",
       "      <td>22.008097</td>\n",
       "      <td>22.093893</td>\n",
       "      <td>21.654169</td>\n",
       "      <td>22.227314</td>\n",
       "    </tr>\n",
       "    <tr>\n",
       "      <th>std</th>\n",
       "      <td>2.947339e+15</td>\n",
       "      <td>6.389213</td>\n",
       "      <td>0.463784</td>\n",
       "      <td>0.408050</td>\n",
       "      <td>0.404057</td>\n",
       "      <td>0.560762</td>\n",
       "      <td>0.366104</td>\n",
       "      <td>0.447026</td>\n",
       "    </tr>\n",
       "    <tr>\n",
       "      <th>min</th>\n",
       "      <td>1.601155e+18</td>\n",
       "      <td>-3.500000</td>\n",
       "      <td>19.400000</td>\n",
       "      <td>19.800000</td>\n",
       "      <td>20.300000</td>\n",
       "      <td>20.000000</td>\n",
       "      <td>18.500000</td>\n",
       "      <td>20.400000</td>\n",
       "    </tr>\n",
       "    <tr>\n",
       "      <th>25%</th>\n",
       "      <td>1.603119e+18</td>\n",
       "      <td>0.300000</td>\n",
       "      <td>21.400000</td>\n",
       "      <td>21.600000</td>\n",
       "      <td>21.700000</td>\n",
       "      <td>21.800000</td>\n",
       "      <td>21.500000</td>\n",
       "      <td>22.000000</td>\n",
       "    </tr>\n",
       "    <tr>\n",
       "      <th>50%</th>\n",
       "      <td>1.605501e+18</td>\n",
       "      <td>5.500000</td>\n",
       "      <td>21.800000</td>\n",
       "      <td>21.800000</td>\n",
       "      <td>22.100000</td>\n",
       "      <td>22.200000</td>\n",
       "      <td>21.700000</td>\n",
       "      <td>22.300000</td>\n",
       "    </tr>\n",
       "    <tr>\n",
       "      <th>75%</th>\n",
       "      <td>1.608245e+18</td>\n",
       "      <td>9.700000</td>\n",
       "      <td>22.000000</td>\n",
       "      <td>22.000000</td>\n",
       "      <td>22.300000</td>\n",
       "      <td>22.400000</td>\n",
       "      <td>21.900000</td>\n",
       "      <td>22.500000</td>\n",
       "    </tr>\n",
       "    <tr>\n",
       "      <th>max</th>\n",
       "      <td>1.611226e+18</td>\n",
       "      <td>190.300000</td>\n",
       "      <td>23.000000</td>\n",
       "      <td>23.000000</td>\n",
       "      <td>23.100000</td>\n",
       "      <td>26.600000</td>\n",
       "      <td>24.500000</td>\n",
       "      <td>23.700000</td>\n",
       "    </tr>\n",
       "  </tbody>\n",
       "</table>\n",
       "</div>"
      ],
      "text/plain": [
       "               time         t_zew     t_gabinet  t_gsypialnia         t_hol  \\\n",
       "count  1.416500e+04  14165.000000  14165.000000  14165.000000  14165.000000   \n",
       "mean   1.605698e+18      5.514211     21.639463     21.820409     22.008097   \n",
       "std    2.947339e+15      6.389213      0.463784      0.408050      0.404057   \n",
       "min    1.601155e+18     -3.500000     19.400000     19.800000     20.300000   \n",
       "25%    1.603119e+18      0.300000     21.400000     21.600000     21.700000   \n",
       "50%    1.605501e+18      5.500000     21.800000     21.800000     22.100000   \n",
       "75%    1.608245e+18      9.700000     22.000000     22.000000     22.300000   \n",
       "max    1.611226e+18    190.300000     23.000000     23.000000     23.100000   \n",
       "\n",
       "         t_lazienka       t_salon   t_sypialnia  \n",
       "count  14165.000000  14165.000000  14165.000000  \n",
       "mean      22.093893     21.654169     22.227314  \n",
       "std        0.560762      0.366104      0.447026  \n",
       "min       20.000000     18.500000     20.400000  \n",
       "25%       21.800000     21.500000     22.000000  \n",
       "50%       22.200000     21.700000     22.300000  \n",
       "75%       22.400000     21.900000     22.500000  \n",
       "max       26.600000     24.500000     23.700000  "
      ]
     },
     "execution_count": 20,
     "metadata": {},
     "output_type": "execute_result"
    }
   ],
   "source": [
    "temp_df.describe()"
   ]
  },
  {
   "cell_type": "markdown",
   "id": "spatial-prediction",
   "metadata": {},
   "source": [
    "**Resetowanie indexu**"
   ]
  },
  {
   "cell_type": "code",
   "execution_count": 21,
   "id": "brave-movement",
   "metadata": {},
   "outputs": [],
   "source": [
    "temp_df.reset_index(drop=True, inplace=True)"
   ]
  },
  {
   "cell_type": "markdown",
   "id": "dressed-conservative",
   "metadata": {},
   "source": [
    "**Zmiana nieprawidłowych wartości w danych**"
   ]
  },
  {
   "cell_type": "code",
   "execution_count": 22,
   "id": "certain-surrey",
   "metadata": {},
   "outputs": [],
   "source": [
    "for i in range(3100,3250):\n",
    "    temp_df.at[i,'t_zew'] = 7.5\n",
    "    t_zew.at[i,'t_zew'] = 7.5"
   ]
  },
  {
   "cell_type": "markdown",
   "id": "attractive-florida",
   "metadata": {},
   "source": [
    "**Boxplot po poprawkach:**"
   ]
  },
  {
   "cell_type": "code",
   "execution_count": 23,
   "id": "annual-nickname",
   "metadata": {},
   "outputs": [
    {
     "data": {
      "text/plain": [
       "<AxesSubplot:>"
      ]
     },
     "execution_count": 23,
     "metadata": {},
     "output_type": "execute_result"
    },
    {
     "data": {
      "image/png": "[encoded data removed]",
      "text/plain": [
       "<Figure size 432x288 with 1 Axes>"
      ]
     },
     "metadata": {},
     "output_type": "display_data"
    }
   ],
   "source": [
    "sns.boxplot(data=temp_df['t_zew'])"
   ]
  },
  {
   "cell_type": "markdown",
   "id": "according-baseball",
   "metadata": {},
   "source": [
    "**Łączenie do jednego DataFrame wszystkich danych pochodzenia zewnętrznego**"
   ]
  },
  {
   "cell_type": "code",
   "execution_count": 24,
   "id": "pressed-skiing",
   "metadata": {},
   "outputs": [],
   "source": [
    "inne_list = [t_zew,cis_atm,czujnik_deszczu,wiglotnosc]\n",
    "left = blok_g\n",
    "for i in inne_list:\n",
    "    right= i\n",
    "    inne_df = pd.merge_asof(left,right,on=['time'])\n",
    "    left = inne_df\n"
   ]
  },
  {
   "cell_type": "markdown",
   "id": "intimate-vintage",
   "metadata": {},
   "source": [
    "**Łączymy dataframe ze zbiorem wszystkich temperatur pokoju z dataframem o czynnikach zewnętrznych**"
   ]
  },
  {
   "cell_type": "code",
   "execution_count": 25,
   "id": "stable-friendship",
   "metadata": {},
   "outputs": [],
   "source": [
    "left= temp_df\n",
    "right = inne_df\n",
    "temp_inne_df = pd.merge_asof(left,right,on=['time'])\n",
    "temp_inne_df=temp_inne_df.apply(pd.to_numeric, errors='coerce')\n",
    "temp_inne_df.dropna(axis=0, inplace=True)\n",
    "temp_inne_df.reset_index(drop=True, inplace=True)"
   ]
  },
  {
   "cell_type": "markdown",
   "id": "ordered-tractor",
   "metadata": {},
   "source": [
    "**Czy są wartosci NaN**"
   ]
  },
  {
   "cell_type": "code",
   "execution_count": 26,
   "id": "owned-seven",
   "metadata": {},
   "outputs": [
    {
     "data": {
      "text/plain": [
       "time               0\n",
       "t_zew_x            0\n",
       "t_gabinet          0\n",
       "t_gsypialnia       0\n",
       "t_hol              0\n",
       "t_lazienka         0\n",
       "t_salon            0\n",
       "t_sypialnia        0\n",
       "blok_g             0\n",
       "t_zew_y            0\n",
       "cis_atm            0\n",
       "czujnik_deszczu    0\n",
       "wiglotnosc         0\n",
       "dtype: int64"
      ]
     },
     "execution_count": 26,
     "metadata": {},
     "output_type": "execute_result"
    }
   ],
   "source": [
    "temp_inne_df.isnull().sum()"
   ]
  },
  {
   "cell_type": "markdown",
   "id": "unknown-mount",
   "metadata": {},
   "source": [
    "**Korelacja temperatur wszystkich pomieszczeń z czynnikami zewnętrznymi**"
   ]
  },
  {
   "cell_type": "code",
   "execution_count": 27,
   "id": "seven-duncan",
   "metadata": {},
   "outputs": [
    {
     "data": {
      "text/html": [
       "<div>\n",
       "<style scoped>\n",
       "    .dataframe tbody tr th:only-of-type {\n",
       "        vertical-align: middle;\n",
       "    }\n",
       "\n",
       "    .dataframe tbody tr th {\n",
       "        vertical-align: top;\n",
       "    }\n",
       "\n",
       "    .dataframe thead th {\n",
       "        text-align: right;\n",
       "    }\n",
       "</style>\n",
       "<table border=\"1\" class=\"dataframe\">\n",
       "  <thead>\n",
       "    <tr style=\"text-align: right;\">\n",
       "      <th></th>\n",
       "      <th>time</th>\n",
       "      <th>t_zew_x</th>\n",
       "      <th>t_gabinet</th>\n",
       "      <th>t_gsypialnia</th>\n",
       "      <th>t_hol</th>\n",
       "      <th>t_lazienka</th>\n",
       "      <th>t_salon</th>\n",
       "      <th>t_sypialnia</th>\n",
       "      <th>blok_g</th>\n",
       "      <th>t_zew_y</th>\n",
       "      <th>cis_atm</th>\n",
       "      <th>czujnik_deszczu</th>\n",
       "      <th>wiglotnosc</th>\n",
       "    </tr>\n",
       "  </thead>\n",
       "  <tbody>\n",
       "    <tr>\n",
       "      <th>time</th>\n",
       "      <td>1.000000</td>\n",
       "      <td>-0.836161</td>\n",
       "      <td>-0.082564</td>\n",
       "      <td>-0.360576</td>\n",
       "      <td>-0.087478</td>\n",
       "      <td>0.017436</td>\n",
       "      <td>-0.155817</td>\n",
       "      <td>-0.211868</td>\n",
       "      <td>-0.484149</td>\n",
       "      <td>-0.836179</td>\n",
       "      <td>0.092343</td>\n",
       "      <td>-0.042455</td>\n",
       "      <td>0.557839</td>\n",
       "    </tr>\n",
       "    <tr>\n",
       "      <th>t_zew_x</th>\n",
       "      <td>-0.836161</td>\n",
       "      <td>1.000000</td>\n",
       "      <td>0.156450</td>\n",
       "      <td>0.409332</td>\n",
       "      <td>0.171316</td>\n",
       "      <td>0.103905</td>\n",
       "      <td>0.209135</td>\n",
       "      <td>0.323303</td>\n",
       "      <td>0.542806</td>\n",
       "      <td>0.998923</td>\n",
       "      <td>-0.212565</td>\n",
       "      <td>0.054193</td>\n",
       "      <td>-0.609472</td>\n",
       "    </tr>\n",
       "    <tr>\n",
       "      <th>t_gabinet</th>\n",
       "      <td>-0.082564</td>\n",
       "      <td>0.156450</td>\n",
       "      <td>1.000000</td>\n",
       "      <td>0.546812</td>\n",
       "      <td>0.656308</td>\n",
       "      <td>0.776688</td>\n",
       "      <td>0.647807</td>\n",
       "      <td>0.771079</td>\n",
       "      <td>-0.100881</td>\n",
       "      <td>0.157298</td>\n",
       "      <td>-0.000056</td>\n",
       "      <td>0.106844</td>\n",
       "      <td>-0.040809</td>\n",
       "    </tr>\n",
       "    <tr>\n",
       "      <th>t_gsypialnia</th>\n",
       "      <td>-0.360576</td>\n",
       "      <td>0.409332</td>\n",
       "      <td>0.546812</td>\n",
       "      <td>1.000000</td>\n",
       "      <td>0.513526</td>\n",
       "      <td>0.476632</td>\n",
       "      <td>0.546711</td>\n",
       "      <td>0.725509</td>\n",
       "      <td>0.132629</td>\n",
       "      <td>0.409698</td>\n",
       "      <td>-0.086328</td>\n",
       "      <td>0.021129</td>\n",
       "      <td>-0.226065</td>\n",
       "    </tr>\n",
       "    <tr>\n",
       "      <th>t_hol</th>\n",
       "      <td>-0.087478</td>\n",
       "      <td>0.171316</td>\n",
       "      <td>0.656308</td>\n",
       "      <td>0.513526</td>\n",
       "      <td>1.000000</td>\n",
       "      <td>0.691974</td>\n",
       "      <td>0.783988</td>\n",
       "      <td>0.745482</td>\n",
       "      <td>-0.094778</td>\n",
       "      <td>0.170941</td>\n",
       "      <td>0.043230</td>\n",
       "      <td>0.066203</td>\n",
       "      <td>-0.050881</td>\n",
       "    </tr>\n",
       "    <tr>\n",
       "      <th>t_lazienka</th>\n",
       "      <td>0.017436</td>\n",
       "      <td>0.103905</td>\n",
       "      <td>0.776688</td>\n",
       "      <td>0.476632</td>\n",
       "      <td>0.691974</td>\n",
       "      <td>1.000000</td>\n",
       "      <td>0.620364</td>\n",
       "      <td>0.729008</td>\n",
       "      <td>-0.228419</td>\n",
       "      <td>0.102235</td>\n",
       "      <td>0.093407</td>\n",
       "      <td>0.137356</td>\n",
       "      <td>0.047415</td>\n",
       "    </tr>\n",
       "    <tr>\n",
       "      <th>t_salon</th>\n",
       "      <td>-0.155817</td>\n",
       "      <td>0.209135</td>\n",
       "      <td>0.647807</td>\n",
       "      <td>0.546711</td>\n",
       "      <td>0.783988</td>\n",
       "      <td>0.620364</td>\n",
       "      <td>1.000000</td>\n",
       "      <td>0.748563</td>\n",
       "      <td>-0.042089</td>\n",
       "      <td>0.210773</td>\n",
       "      <td>0.022618</td>\n",
       "      <td>0.104563</td>\n",
       "      <td>-0.110760</td>\n",
       "    </tr>\n",
       "    <tr>\n",
       "      <th>t_sypialnia</th>\n",
       "      <td>-0.211868</td>\n",
       "      <td>0.323303</td>\n",
       "      <td>0.771079</td>\n",
       "      <td>0.725509</td>\n",
       "      <td>0.745482</td>\n",
       "      <td>0.729008</td>\n",
       "      <td>0.748563</td>\n",
       "      <td>1.000000</td>\n",
       "      <td>0.045300</td>\n",
       "      <td>0.324234</td>\n",
       "      <td>-0.048189</td>\n",
       "      <td>0.107287</td>\n",
       "      <td>-0.156320</td>\n",
       "    </tr>\n",
       "    <tr>\n",
       "      <th>blok_g</th>\n",
       "      <td>-0.484149</td>\n",
       "      <td>0.542806</td>\n",
       "      <td>-0.100881</td>\n",
       "      <td>0.132629</td>\n",
       "      <td>-0.094778</td>\n",
       "      <td>-0.228419</td>\n",
       "      <td>-0.042089</td>\n",
       "      <td>0.045300</td>\n",
       "      <td>1.000000</td>\n",
       "      <td>0.543791</td>\n",
       "      <td>-0.250424</td>\n",
       "      <td>0.006760</td>\n",
       "      <td>-0.675416</td>\n",
       "    </tr>\n",
       "    <tr>\n",
       "      <th>t_zew_y</th>\n",
       "      <td>-0.836179</td>\n",
       "      <td>0.998923</td>\n",
       "      <td>0.157298</td>\n",
       "      <td>0.409698</td>\n",
       "      <td>0.170941</td>\n",
       "      <td>0.102235</td>\n",
       "      <td>0.210773</td>\n",
       "      <td>0.324234</td>\n",
       "      <td>0.543791</td>\n",
       "      <td>1.000000</td>\n",
       "      <td>-0.212806</td>\n",
       "      <td>0.054617</td>\n",
       "      <td>-0.611115</td>\n",
       "    </tr>\n",
       "    <tr>\n",
       "      <th>cis_atm</th>\n",
       "      <td>0.092343</td>\n",
       "      <td>-0.212565</td>\n",
       "      <td>-0.000056</td>\n",
       "      <td>-0.086328</td>\n",
       "      <td>0.043230</td>\n",
       "      <td>0.093407</td>\n",
       "      <td>0.022618</td>\n",
       "      <td>-0.048189</td>\n",
       "      <td>-0.250424</td>\n",
       "      <td>-0.212806</td>\n",
       "      <td>1.000000</td>\n",
       "      <td>0.073097</td>\n",
       "      <td>0.163963</td>\n",
       "    </tr>\n",
       "    <tr>\n",
       "      <th>czujnik_deszczu</th>\n",
       "      <td>-0.042455</td>\n",
       "      <td>0.054193</td>\n",
       "      <td>0.106844</td>\n",
       "      <td>0.021129</td>\n",
       "      <td>0.066203</td>\n",
       "      <td>0.137356</td>\n",
       "      <td>0.104563</td>\n",
       "      <td>0.107287</td>\n",
       "      <td>0.006760</td>\n",
       "      <td>0.054617</td>\n",
       "      <td>0.073097</td>\n",
       "      <td>1.000000</td>\n",
       "      <td>0.041017</td>\n",
       "    </tr>\n",
       "    <tr>\n",
       "      <th>wiglotnosc</th>\n",
       "      <td>0.557839</td>\n",
       "      <td>-0.609472</td>\n",
       "      <td>-0.040809</td>\n",
       "      <td>-0.226065</td>\n",
       "      <td>-0.050881</td>\n",
       "      <td>0.047415</td>\n",
       "      <td>-0.110760</td>\n",
       "      <td>-0.156320</td>\n",
       "      <td>-0.675416</td>\n",
       "      <td>-0.611115</td>\n",
       "      <td>0.163963</td>\n",
       "      <td>0.041017</td>\n",
       "      <td>1.000000</td>\n",
       "    </tr>\n",
       "  </tbody>\n",
       "</table>\n",
       "</div>"
      ],
      "text/plain": [
       "                     time   t_zew_x  t_gabinet  t_gsypialnia     t_hol  \\\n",
       "time             1.000000 -0.836161  -0.082564     -0.360576 -0.087478   \n",
       "t_zew_x         -0.836161  1.000000   0.156450      0.409332  0.171316   \n",
       "t_gabinet       -0.082564  0.156450   1.000000      0.546812  0.656308   \n",
       "t_gsypialnia    -0.360576  0.409332   0.546812      1.000000  0.513526   \n",
       "t_hol           -0.087478  0.171316   0.656308      0.513526  1.000000   \n",
       "t_lazienka       0.017436  0.103905   0.776688      0.476632  0.691974   \n",
       "t_salon         -0.155817  0.209135   0.647807      0.546711  0.783988   \n",
       "t_sypialnia     -0.211868  0.323303   0.771079      0.725509  0.745482   \n",
       "blok_g          -0.484149  0.542806  -0.100881      0.132629 -0.094778   \n",
       "t_zew_y         -0.836179  0.998923   0.157298      0.409698  0.170941   \n",
       "cis_atm          0.092343 -0.212565  -0.000056     -0.086328  0.043230   \n",
       "czujnik_deszczu -0.042455  0.054193   0.106844      0.021129  0.066203   \n",
       "wiglotnosc       0.557839 -0.609472  -0.040809     -0.226065 -0.050881   \n",
       "\n",
       "                 t_lazienka   t_salon  t_sypialnia    blok_g   t_zew_y  \\\n",
       "time               0.017436 -0.155817    -0.211868 -0.484149 -0.836179   \n",
       "t_zew_x            0.103905  0.209135     0.323303  0.542806  0.998923   \n",
       "t_gabinet          0.776688  0.647807     0.771079 -0.100881  0.157298   \n",
       "t_gsypialnia       0.476632  0.546711     0.725509  0.132629  0.409698   \n",
       "t_hol              0.691974  0.783988     0.745482 -0.094778  0.170941   \n",
       "t_lazienka         1.000000  0.620364     0.729008 -0.228419  0.102235   \n",
       "t_salon            0.620364  1.000000     0.748563 -0.042089  0.210773   \n",
       "t_sypialnia        0.729008  0.748563     1.000000  0.045300  0.324234   \n",
       "blok_g            -0.228419 -0.042089     0.045300  1.000000  0.543791   \n",
       "t_zew_y            0.102235  0.210773     0.324234  0.543791  1.000000   \n",
       "cis_atm            0.093407  0.022618    -0.048189 -0.250424 -0.212806   \n",
       "czujnik_deszczu    0.137356  0.104563     0.107287  0.006760  0.054617   \n",
       "wiglotnosc         0.047415 -0.110760    -0.156320 -0.675416 -0.611115   \n",
       "\n",
       "                  cis_atm  czujnik_deszczu  wiglotnosc  \n",
       "time             0.092343        -0.042455    0.557839  \n",
       "t_zew_x         -0.212565         0.054193   -0.609472  \n",
       "t_gabinet       -0.000056         0.106844   -0.040809  \n",
       "t_gsypialnia    -0.086328         0.021129   -0.226065  \n",
       "t_hol            0.043230         0.066203   -0.050881  \n",
       "t_lazienka       0.093407         0.137356    0.047415  \n",
       "t_salon          0.022618         0.104563   -0.110760  \n",
       "t_sypialnia     -0.048189         0.107287   -0.156320  \n",
       "blok_g          -0.250424         0.006760   -0.675416  \n",
       "t_zew_y         -0.212806         0.054617   -0.611115  \n",
       "cis_atm          1.000000         0.073097    0.163963  \n",
       "czujnik_deszczu  0.073097         1.000000    0.041017  \n",
       "wiglotnosc       0.163963         0.041017    1.000000  "
      ]
     },
     "execution_count": 27,
     "metadata": {},
     "output_type": "execute_result"
    }
   ],
   "source": [
    "temp_inne_df_corr=temp_inne_df.corr()\n",
    "temp_inne_df_corr"
   ]
  },
  {
   "cell_type": "markdown",
   "id": "electoral-administrator",
   "metadata": {},
   "source": [
    "**Heatmapa korelacji temperatur wszystkich pomieszczeń z czynnikami zewnętrznymi**"
   ]
  },
  {
   "cell_type": "code",
   "execution_count": 28,
   "id": "moved-subject",
   "metadata": {},
   "outputs": [
    {
     "data": {
      "text/plain": [
       "<AxesSubplot:>"
      ]
     },
     "execution_count": 28,
     "metadata": {},
     "output_type": "execute_result"
    },
    {
     "data": {
      "image/png": "[encoded data removed]",
      "text/plain": [
       "<Figure size 720x720 with 2 Axes>"
      ]
     },
     "metadata": {},
     "output_type": "display_data"
    }
   ],
   "source": [
    "fig, ax = plt.subplots(figsize=(10,10))\n",
    "sns.heatmap(temp_inne_df_corr, xticklabels=True, yticklabels=True, cmap=\"YlGnBu\",ax=ax)"
   ]
  },
  {
   "cell_type": "markdown",
   "id": "established-click",
   "metadata": {},
   "source": [
    "**Hol - tworzymy dataframe zawierający wszystkie dane dotyczące holu**"
   ]
  },
  {
   "cell_type": "code",
   "execution_count": 29,
   "id": "whole-isolation",
   "metadata": {},
   "outputs": [],
   "source": [
    "hol_list = [g_hol,sp_hol,t_hol]\n",
    "left = tryb_hol\n",
    "for i in hol_list:\n",
    "    right= i\n",
    "    hol_df = pd.merge_asof(left,right,on=['time'])\n",
    "    left = hol_df"
   ]
  },
  {
   "cell_type": "markdown",
   "id": "junior-evolution",
   "metadata": {},
   "source": [
    "**Gabinet - tworzymy dataframe zawierający wszystkie dane dotyczące gabinetu**"
   ]
  },
  {
   "cell_type": "code",
   "execution_count": 30,
   "id": "pleasant-syntax",
   "metadata": {},
   "outputs": [],
   "source": [
    "gabinet_list = [g_gabinet,sp_gabinet,t_gabinet]\n",
    "left = tryb_gabinet\n",
    "for i in gabinet_list:\n",
    "    right= i\n",
    "    gabinet_df = pd.merge_asof(left,right,on=['time'])\n",
    "    left = gabinet_df"
   ]
  },
  {
   "cell_type": "markdown",
   "id": "satisfactory-doubt",
   "metadata": {},
   "source": [
    "**Dodajemy pomocne kolumny:**"
   ]
  },
  {
   "cell_type": "markdown",
   "id": "express-theology",
   "metadata": {},
   "source": [
    "**Jeśli `T(t) - T(Sp) > 0` to 1, czyli jeśli temperatura pomieszczenia jest wyższa niż ustawiony setpoint**"
   ]
  },
  {
   "cell_type": "code",
   "execution_count": 31,
   "id": "basic-particular",
   "metadata": {},
   "outputs": [],
   "source": [
    "hol_df['przegrzanie'] = \"\" "
   ]
  },
  {
   "cell_type": "markdown",
   "id": "handy-touch",
   "metadata": {},
   "source": [
    "**Różnica temperatury między: temp pokoju, a ustawionym setpointem**"
   ]
  },
  {
   "cell_type": "code",
   "execution_count": 32,
   "id": "fossil-elimination",
   "metadata": {},
   "outputs": [],
   "source": [
    "hol_df['T(t)-T(Sp)'] = \"\" "
   ]
  },
  {
   "cell_type": "markdown",
   "id": "corrected-theta",
   "metadata": {},
   "source": [
    "**Czy temperatura jest rosnąca? 1 lub 0, w zależności od znaku współczynnika kierunkowego (ilorazu różniczkowowego)**"
   ]
  },
  {
   "cell_type": "code",
   "execution_count": 33,
   "id": "premier-spirituality",
   "metadata": {},
   "outputs": [],
   "source": [
    "hol_df['t_rosnąca?'] = \"\""
   ]
  },
  {
   "cell_type": "markdown",
   "id": "varied-louis",
   "metadata": {},
   "source": [
    "**Zmiana wartości kolejnych temperatur, inaczej mózwiąc to iloraz różniczkowy `[f(x0+h)−f(x0)]/h` dla `h=1`\n",
    "(im większa wartość współczynnika- tym temperatura zmienia się szybciej)**"
   ]
  },
  {
   "cell_type": "code",
   "execution_count": 34,
   "id": "isolated-canal",
   "metadata": {},
   "outputs": [],
   "source": [
    "hol_df['t(x+1)-t(x)'] = \"\" "
   ]
  },
  {
   "cell_type": "markdown",
   "id": "minute-grounds",
   "metadata": {},
   "source": [
    "**Niepotrzebne grzanie - gdy `T` pokoju > `Sp`, a pomimo tego dalej jest włączony grzejnik**"
   ]
  },
  {
   "cell_type": "code",
   "execution_count": 35,
   "id": "clear-algeria",
   "metadata": {},
   "outputs": [],
   "source": [
    "hol_df['Np_grz'] = \"\""
   ]
  },
  {
   "cell_type": "markdown",
   "id": "interested-veteran",
   "metadata": {},
   "source": [
    "**Różnica temperatury między: temp pokoju, a ustawionym setpointem Jeżeli ta różnica jest `> 0`  to definiujemy ten stan jako przegrzanie**"
   ]
  },
  {
   "cell_type": "code",
   "execution_count": 36,
   "id": "dirty-worker",
   "metadata": {},
   "outputs": [],
   "source": [
    "hol_df['T(t)-T(Sp)'] = hol_df['t_hol'] - hol_df['sp_hol']"
   ]
  },
  {
   "cell_type": "markdown",
   "id": "regular-alcohol",
   "metadata": {},
   "source": [
    "**`0 `- brak przegrzania,\n",
    "`1 `- przegrzanie**"
   ]
  },
  {
   "cell_type": "code",
   "execution_count": 37,
   "id": "conditional-tongue",
   "metadata": {},
   "outputs": [],
   "source": [
    "hol_df['przegrzanie']=np.where(hol_df['T(t)-T(Sp)'] > 0.0, 1, 0)"
   ]
  },
  {
   "cell_type": "markdown",
   "id": "elder-transaction",
   "metadata": {},
   "source": [
    "**Funkcja ciągła wykresu temperatury - może być przydatne w późniejszej analizie**"
   ]
  },
  {
   "cell_type": "code",
   "execution_count": 38,
   "id": "arabic-badge",
   "metadata": {},
   "outputs": [
    {
     "data": {
      "image/png": "[encoded data removed]",
      "text/plain": [
       "<Figure size 432x288 with 1 Axes>"
      ]
     },
     "metadata": {},
     "output_type": "display_data"
    }
   ],
   "source": [
    "function = hol_df['t_hol'].plot(x ='index', y='t_hol', kind = 'line')"
   ]
  },
  {
   "cell_type": "markdown",
   "id": "amber-producer",
   "metadata": {},
   "source": [
    "**Kolumna zawiera informacje JAK SZYBKO zmienia się temperatura. Wartość ilorazu różniczkowego `[f(x0+h)−f(x0)]/h` dla `h=1`. Inaczej mózwiąc jest to współczynnik kierunkowy prostej stycznej do punktu `x0`. Im większa wartość współczynnika - tym temperatura zmienia się szybciej**"
   ]
  },
  {
   "cell_type": "code",
   "execution_count": 39,
   "id": "intimate-accent",
   "metadata": {},
   "outputs": [],
   "source": [
    "hol_df['t(x+1)-t(x)'] = hol_df['t_hol'].diff()\n",
    "hol_df['t(x+1)-t(x)']=hol_df['t(x+1)-t(x)'].fillna(0)"
   ]
  },
  {
   "cell_type": "markdown",
   "id": "electronic-issue",
   "metadata": {},
   "source": [
    "**Informacje o tabeli zmian temperatur**"
   ]
  },
  {
   "cell_type": "code",
   "execution_count": 40,
   "id": "educational-ambassador",
   "metadata": {},
   "outputs": [
    {
     "data": {
      "text/plain": [
       "count    11370.000000\n",
       "mean         0.000009\n",
       "std          0.103594\n",
       "min         -1.800000\n",
       "25%          0.000000\n",
       "50%          0.000000\n",
       "75%          0.000000\n",
       "max          0.400000\n",
       "Name: t(x+1)-t(x), dtype: float64"
      ]
     },
     "execution_count": 40,
     "metadata": {},
     "output_type": "execute_result"
    }
   ],
   "source": [
    "hol_df['t(x+1)-t(x)'].describe()"
   ]
  },
  {
   "cell_type": "markdown",
   "id": "received-vietnam",
   "metadata": {},
   "source": [
    "**Jeżeli współczynnik kierunkowy stycznej > 0 to:\n",
    "`1 -temperatura jest rosnąca`, \n",
    "w przeciwnym wypadku - `0`**"
   ]
  },
  {
   "cell_type": "code",
   "execution_count": 41,
   "id": "intimate-china",
   "metadata": {},
   "outputs": [],
   "source": [
    "hol_df['t_rosnąca?']=np.where(hol_df['t(x+1)-t(x)'] > 0.0, 1, 0)"
   ]
  },
  {
   "cell_type": "markdown",
   "id": "massive-andrew",
   "metadata": {},
   "source": [
    "**Ile mamy wyników gdzie temperatura jest rosnąca**"
   ]
  },
  {
   "cell_type": "code",
   "execution_count": 42,
   "id": "differential-watts",
   "metadata": {},
   "outputs": [
    {
     "data": {
      "text/plain": [
       "time           1297\n",
       "tryb_hol       1297\n",
       "g_hol          1297\n",
       "sp_hol         1297\n",
       "t_hol          1297\n",
       "przegrzanie    1297\n",
       "T(t)-T(Sp)     1297\n",
       "t_rosnąca?     1297\n",
       "t(x+1)-t(x)    1297\n",
       "Np_grz         1297\n",
       "dtype: int64"
      ]
     },
     "execution_count": 42,
     "metadata": {},
     "output_type": "execute_result"
    }
   ],
   "source": [
    "x=hol_df[hol_df['t_rosnąca?']>0.0]\n",
    "x.count()"
   ]
  },
  {
   "cell_type": "markdown",
   "id": "fifth-tractor",
   "metadata": {},
   "source": [
    "**Zmiana danych w DataFrame na numeryczne**"
   ]
  },
  {
   "cell_type": "code",
   "execution_count": 43,
   "id": "composite-queen",
   "metadata": {},
   "outputs": [],
   "source": [
    "hol_df=hol_df.apply(pd.to_numeric, errors='coerce')"
   ]
  },
  {
   "cell_type": "markdown",
   "id": "incorporated-bumper",
   "metadata": {},
   "source": [
    "**Wypełnianie NaN jeśli istnieją**"
   ]
  },
  {
   "cell_type": "code",
   "execution_count": 44,
   "id": "acoustic-antenna",
   "metadata": {},
   "outputs": [],
   "source": [
    "hol_df=hol_df.fillna(0)"
   ]
  },
  {
   "cell_type": "markdown",
   "id": "global-swaziland",
   "metadata": {},
   "source": [
    "**Reset indeks**"
   ]
  },
  {
   "cell_type": "code",
   "execution_count": 45,
   "id": "historical-globe",
   "metadata": {},
   "outputs": [],
   "source": [
    "hol_df.reset_index(inplace=True)"
   ]
  },
  {
   "cell_type": "markdown",
   "id": "developed-korea",
   "metadata": {},
   "source": [
    "**Niepotrzebne grzanie - gdy T pokoju > Sp, a pomimo tego dalej jest włączony grzejnik**"
   ]
  },
  {
   "cell_type": "code",
   "execution_count": 46,
   "id": "collective-program",
   "metadata": {},
   "outputs": [],
   "source": [
    "hol_df['Np_grz']=np.where((hol_df['przegrzanie'] > 0) & (hol_df['g_hol'] > 0), 1 ,0)"
   ]
  },
  {
   "cell_type": "markdown",
   "id": "reverse-seafood",
   "metadata": {},
   "source": [
    "**Łączenie df zawierającej informacje o danym pokoju (hol) z informacjami o czynnikach zewnętrznych - po to, aby modele mogły rozważyć więcej czynników i ewentualnie rozpoznać znaczące korelacje między danymi**"
   ]
  },
  {
   "cell_type": "code",
   "execution_count": 47,
   "id": "pending-forestry",
   "metadata": {},
   "outputs": [],
   "source": [
    "left= hol_df\n",
    "right = inne_df\n",
    "hol_inne_df = pd.merge_asof(left,right,on=['time'])"
   ]
  },
  {
   "cell_type": "markdown",
   "id": "rotary-karen",
   "metadata": {},
   "source": [
    "**Zmiana typów danych w nowo powstałym df na numeryczne (aby zlikwidować błędu przy uczeniu maszynowym modeli)**"
   ]
  },
  {
   "cell_type": "code",
   "execution_count": 48,
   "id": "statistical-actor",
   "metadata": {},
   "outputs": [],
   "source": [
    "hol_inne_df=hol_inne_df.apply(pd.to_numeric, errors='coerce')"
   ]
  },
  {
   "cell_type": "markdown",
   "id": "yellow-minutes",
   "metadata": {},
   "source": [
    "**Usuwanie NaN**"
   ]
  },
  {
   "cell_type": "code",
   "execution_count": 49,
   "id": "inside-foundation",
   "metadata": {},
   "outputs": [],
   "source": [
    "hol_inne_df.dropna(axis=0, inplace=True)"
   ]
  },
  {
   "cell_type": "markdown",
   "id": "persistent-costs",
   "metadata": {},
   "source": [
    "**Reset indeksu**"
   ]
  },
  {
   "cell_type": "code",
   "execution_count": 50,
   "id": "automated-ghost",
   "metadata": {},
   "outputs": [],
   "source": [
    "hol_inne_df.reset_index(drop=True, inplace=True)"
   ]
  },
  {
   "cell_type": "markdown",
   "id": "vital-lingerie",
   "metadata": {},
   "source": [
    "**Usuwanie kolumny index (ponieważ się zdublowała)**"
   ]
  },
  {
   "cell_type": "code",
   "execution_count": 51,
   "id": "unique-gentleman",
   "metadata": {},
   "outputs": [],
   "source": [
    "hol_inne_df=hol_inne_df.drop(['index'], axis=1)"
   ]
  },
  {
   "cell_type": "markdown",
   "id": "compliant-pregnancy",
   "metadata": {},
   "source": [
    "**Infromacje - jak widać teraz wszystkie kolumny mają wartość numeryczną**"
   ]
  },
  {
   "cell_type": "code",
   "execution_count": 52,
   "id": "constant-river",
   "metadata": {},
   "outputs": [
    {
     "name": "stdout",
     "output_type": "stream",
     "text": [
      "<class 'pandas.core.frame.DataFrame'>\n",
      "RangeIndex: 11369 entries, 0 to 11368\n",
      "Data columns (total 15 columns):\n",
      " #   Column           Non-Null Count  Dtype  \n",
      "---  ------           --------------  -----  \n",
      " 0   time             11369 non-null  int64  \n",
      " 1   tryb_hol         11369 non-null  int64  \n",
      " 2   g_hol            11369 non-null  int64  \n",
      " 3   sp_hol           11369 non-null  float64\n",
      " 4   t_hol            11369 non-null  float64\n",
      " 5   przegrzanie      11369 non-null  int32  \n",
      " 6   T(t)-T(Sp)       11369 non-null  float64\n",
      " 7   t_rosnąca?       11369 non-null  int32  \n",
      " 8   t(x+1)-t(x)      11369 non-null  float64\n",
      " 9   Np_grz           11369 non-null  int32  \n",
      " 10  blok_g           11369 non-null  float64\n",
      " 11  t_zew            11369 non-null  float64\n",
      " 12  cis_atm          11369 non-null  float64\n",
      " 13  czujnik_deszczu  11369 non-null  float64\n",
      " 14  wiglotnosc       11369 non-null  float64\n",
      "dtypes: float64(9), int32(3), int64(3)\n",
      "memory usage: 1.2 MB\n"
     ]
    }
   ],
   "source": [
    "hol_inne_df.info()"
   ]
  },
  {
   "cell_type": "markdown",
   "id": "overhead-announcement",
   "metadata": {},
   "source": [
    "### DataFrame `hol_df` po wszystkich obróbkach:"
   ]
  },
  {
   "cell_type": "code",
   "execution_count": 53,
   "id": "secondary-nutrition",
   "metadata": {},
   "outputs": [
    {
     "data": {
      "text/html": [
       "<div>\n",
       "<style scoped>\n",
       "    .dataframe tbody tr th:only-of-type {\n",
       "        vertical-align: middle;\n",
       "    }\n",
       "\n",
       "    .dataframe tbody tr th {\n",
       "        vertical-align: top;\n",
       "    }\n",
       "\n",
       "    .dataframe thead th {\n",
       "        text-align: right;\n",
       "    }\n",
       "</style>\n",
       "<table border=\"1\" class=\"dataframe\">\n",
       "  <thead>\n",
       "    <tr style=\"text-align: right;\">\n",
       "      <th></th>\n",
       "      <th>index</th>\n",
       "      <th>time</th>\n",
       "      <th>tryb_hol</th>\n",
       "      <th>g_hol</th>\n",
       "      <th>sp_hol</th>\n",
       "      <th>t_hol</th>\n",
       "      <th>przegrzanie</th>\n",
       "      <th>T(t)-T(Sp)</th>\n",
       "      <th>t_rosnąca?</th>\n",
       "      <th>t(x+1)-t(x)</th>\n",
       "      <th>Np_grz</th>\n",
       "    </tr>\n",
       "  </thead>\n",
       "  <tbody>\n",
       "    <tr>\n",
       "      <th>0</th>\n",
       "      <td>0</td>\n",
       "      <td>1601164800218000000</td>\n",
       "      <td>3</td>\n",
       "      <td>0</td>\n",
       "      <td>7.0</td>\n",
       "      <td>22.2</td>\n",
       "      <td>1</td>\n",
       "      <td>15.2</td>\n",
       "      <td>0</td>\n",
       "      <td>0.0</td>\n",
       "      <td>0</td>\n",
       "    </tr>\n",
       "    <tr>\n",
       "      <th>1</th>\n",
       "      <td>1</td>\n",
       "      <td>1601165700233000000</td>\n",
       "      <td>3</td>\n",
       "      <td>0</td>\n",
       "      <td>7.0</td>\n",
       "      <td>22.2</td>\n",
       "      <td>1</td>\n",
       "      <td>15.2</td>\n",
       "      <td>0</td>\n",
       "      <td>0.0</td>\n",
       "      <td>0</td>\n",
       "    </tr>\n",
       "    <tr>\n",
       "      <th>2</th>\n",
       "      <td>2</td>\n",
       "      <td>1601166600251000000</td>\n",
       "      <td>3</td>\n",
       "      <td>0</td>\n",
       "      <td>7.0</td>\n",
       "      <td>21.9</td>\n",
       "      <td>1</td>\n",
       "      <td>14.9</td>\n",
       "      <td>0</td>\n",
       "      <td>-0.3</td>\n",
       "      <td>0</td>\n",
       "    </tr>\n",
       "    <tr>\n",
       "      <th>3</th>\n",
       "      <td>3</td>\n",
       "      <td>1601167500267000000</td>\n",
       "      <td>3</td>\n",
       "      <td>0</td>\n",
       "      <td>7.0</td>\n",
       "      <td>21.9</td>\n",
       "      <td>1</td>\n",
       "      <td>14.9</td>\n",
       "      <td>0</td>\n",
       "      <td>0.0</td>\n",
       "      <td>0</td>\n",
       "    </tr>\n",
       "    <tr>\n",
       "      <th>4</th>\n",
       "      <td>4</td>\n",
       "      <td>1601168400294000000</td>\n",
       "      <td>3</td>\n",
       "      <td>0</td>\n",
       "      <td>7.0</td>\n",
       "      <td>21.9</td>\n",
       "      <td>1</td>\n",
       "      <td>14.9</td>\n",
       "      <td>0</td>\n",
       "      <td>0.0</td>\n",
       "      <td>0</td>\n",
       "    </tr>\n",
       "    <tr>\n",
       "      <th>...</th>\n",
       "      <td>...</td>\n",
       "      <td>...</td>\n",
       "      <td>...</td>\n",
       "      <td>...</td>\n",
       "      <td>...</td>\n",
       "      <td>...</td>\n",
       "      <td>...</td>\n",
       "      <td>...</td>\n",
       "      <td>...</td>\n",
       "      <td>...</td>\n",
       "      <td>...</td>\n",
       "    </tr>\n",
       "    <tr>\n",
       "      <th>11365</th>\n",
       "      <td>11365</td>\n",
       "      <td>1611222300982000000</td>\n",
       "      <td>1</td>\n",
       "      <td>0</td>\n",
       "      <td>22.0</td>\n",
       "      <td>22.5</td>\n",
       "      <td>1</td>\n",
       "      <td>0.5</td>\n",
       "      <td>0</td>\n",
       "      <td>0.0</td>\n",
       "      <td>0</td>\n",
       "    </tr>\n",
       "    <tr>\n",
       "      <th>11366</th>\n",
       "      <td>11366</td>\n",
       "      <td>1611223200999000000</td>\n",
       "      <td>1</td>\n",
       "      <td>0</td>\n",
       "      <td>22.0</td>\n",
       "      <td>22.5</td>\n",
       "      <td>1</td>\n",
       "      <td>0.5</td>\n",
       "      <td>0</td>\n",
       "      <td>0.0</td>\n",
       "      <td>0</td>\n",
       "    </tr>\n",
       "    <tr>\n",
       "      <th>11367</th>\n",
       "      <td>11367</td>\n",
       "      <td>1611224100018000000</td>\n",
       "      <td>1</td>\n",
       "      <td>0</td>\n",
       "      <td>22.0</td>\n",
       "      <td>22.5</td>\n",
       "      <td>1</td>\n",
       "      <td>0.5</td>\n",
       "      <td>0</td>\n",
       "      <td>0.0</td>\n",
       "      <td>0</td>\n",
       "    </tr>\n",
       "    <tr>\n",
       "      <th>11368</th>\n",
       "      <td>11368</td>\n",
       "      <td>1611225000037000000</td>\n",
       "      <td>1</td>\n",
       "      <td>0</td>\n",
       "      <td>22.0</td>\n",
       "      <td>22.3</td>\n",
       "      <td>1</td>\n",
       "      <td>0.3</td>\n",
       "      <td>0</td>\n",
       "      <td>-0.2</td>\n",
       "      <td>0</td>\n",
       "    </tr>\n",
       "    <tr>\n",
       "      <th>11369</th>\n",
       "      <td>11369</td>\n",
       "      <td>1611225900052000000</td>\n",
       "      <td>1</td>\n",
       "      <td>0</td>\n",
       "      <td>22.0</td>\n",
       "      <td>22.3</td>\n",
       "      <td>1</td>\n",
       "      <td>0.3</td>\n",
       "      <td>0</td>\n",
       "      <td>0.0</td>\n",
       "      <td>0</td>\n",
       "    </tr>\n",
       "  </tbody>\n",
       "</table>\n",
       "<p>11370 rows × 11 columns</p>\n",
       "</div>"
      ],
      "text/plain": [
       "       index                 time  tryb_hol  g_hol  sp_hol  t_hol  \\\n",
       "0          0  1601164800218000000         3      0     7.0   22.2   \n",
       "1          1  1601165700233000000         3      0     7.0   22.2   \n",
       "2          2  1601166600251000000         3      0     7.0   21.9   \n",
       "3          3  1601167500267000000         3      0     7.0   21.9   \n",
       "4          4  1601168400294000000         3      0     7.0   21.9   \n",
       "...      ...                  ...       ...    ...     ...    ...   \n",
       "11365  11365  1611222300982000000         1      0    22.0   22.5   \n",
       "11366  11366  1611223200999000000         1      0    22.0   22.5   \n",
       "11367  11367  1611224100018000000         1      0    22.0   22.5   \n",
       "11368  11368  1611225000037000000         1      0    22.0   22.3   \n",
       "11369  11369  1611225900052000000         1      0    22.0   22.3   \n",
       "\n",
       "       przegrzanie  T(t)-T(Sp)  t_rosnąca?  t(x+1)-t(x)  Np_grz  \n",
       "0                1        15.2           0          0.0       0  \n",
       "1                1        15.2           0          0.0       0  \n",
       "2                1        14.9           0         -0.3       0  \n",
       "3                1        14.9           0          0.0       0  \n",
       "4                1        14.9           0          0.0       0  \n",
       "...            ...         ...         ...          ...     ...  \n",
       "11365            1         0.5           0          0.0       0  \n",
       "11366            1         0.5           0          0.0       0  \n",
       "11367            1         0.5           0          0.0       0  \n",
       "11368            1         0.3           0         -0.2       0  \n",
       "11369            1         0.3           0          0.0       0  \n",
       "\n",
       "[11370 rows x 11 columns]"
      ]
     },
     "execution_count": 53,
     "metadata": {},
     "output_type": "execute_result"
    }
   ],
   "source": [
    "hol_df"
   ]
  },
  {
   "cell_type": "markdown",
   "id": "deluxe-organic",
   "metadata": {},
   "source": [
    "**Wyniki, dla których istnieje efekt \"Niepotrzebne grzanie\"**"
   ]
  },
  {
   "cell_type": "code",
   "execution_count": 54,
   "id": "laden-playing",
   "metadata": {},
   "outputs": [
    {
     "data": {
      "text/html": [
       "<div>\n",
       "<style scoped>\n",
       "    .dataframe tbody tr th:only-of-type {\n",
       "        vertical-align: middle;\n",
       "    }\n",
       "\n",
       "    .dataframe tbody tr th {\n",
       "        vertical-align: top;\n",
       "    }\n",
       "\n",
       "    .dataframe thead th {\n",
       "        text-align: right;\n",
       "    }\n",
       "</style>\n",
       "<table border=\"1\" class=\"dataframe\">\n",
       "  <thead>\n",
       "    <tr style=\"text-align: right;\">\n",
       "      <th></th>\n",
       "      <th>index</th>\n",
       "      <th>time</th>\n",
       "      <th>tryb_hol</th>\n",
       "      <th>g_hol</th>\n",
       "      <th>sp_hol</th>\n",
       "      <th>t_hol</th>\n",
       "      <th>przegrzanie</th>\n",
       "      <th>T(t)-T(Sp)</th>\n",
       "      <th>t_rosnąca?</th>\n",
       "      <th>t(x+1)-t(x)</th>\n",
       "      <th>Np_grz</th>\n",
       "    </tr>\n",
       "  </thead>\n",
       "  <tbody>\n",
       "    <tr>\n",
       "      <th>113</th>\n",
       "      <td>113</td>\n",
       "      <td>1601263800882000000</td>\n",
       "      <td>1</td>\n",
       "      <td>1</td>\n",
       "      <td>21.5</td>\n",
       "      <td>21.7</td>\n",
       "      <td>1</td>\n",
       "      <td>0.2</td>\n",
       "      <td>0</td>\n",
       "      <td>0.0</td>\n",
       "      <td>1</td>\n",
       "    </tr>\n",
       "    <tr>\n",
       "      <th>1317</th>\n",
       "      <td>1317</td>\n",
       "      <td>1602300600675000000</td>\n",
       "      <td>1</td>\n",
       "      <td>1</td>\n",
       "      <td>21.5</td>\n",
       "      <td>21.7</td>\n",
       "      <td>1</td>\n",
       "      <td>0.2</td>\n",
       "      <td>0</td>\n",
       "      <td>0.0</td>\n",
       "      <td>1</td>\n",
       "    </tr>\n",
       "    <tr>\n",
       "      <th>1917</th>\n",
       "      <td>1917</td>\n",
       "      <td>1602819000651000000</td>\n",
       "      <td>1</td>\n",
       "      <td>1</td>\n",
       "      <td>21.5</td>\n",
       "      <td>21.7</td>\n",
       "      <td>1</td>\n",
       "      <td>0.2</td>\n",
       "      <td>0</td>\n",
       "      <td>0.0</td>\n",
       "      <td>1</td>\n",
       "    </tr>\n",
       "    <tr>\n",
       "      <th>2617</th>\n",
       "      <td>2617</td>\n",
       "      <td>1603510200658000000</td>\n",
       "      <td>1</td>\n",
       "      <td>1</td>\n",
       "      <td>21.5</td>\n",
       "      <td>21.7</td>\n",
       "      <td>1</td>\n",
       "      <td>0.2</td>\n",
       "      <td>0</td>\n",
       "      <td>0.0</td>\n",
       "      <td>1</td>\n",
       "    </tr>\n",
       "    <tr>\n",
       "      <th>2909</th>\n",
       "      <td>2909</td>\n",
       "      <td>1603773000790000000</td>\n",
       "      <td>1</td>\n",
       "      <td>1</td>\n",
       "      <td>21.5</td>\n",
       "      <td>21.7</td>\n",
       "      <td>1</td>\n",
       "      <td>0.2</td>\n",
       "      <td>0</td>\n",
       "      <td>0.0</td>\n",
       "      <td>1</td>\n",
       "    </tr>\n",
       "    <tr>\n",
       "      <th>4285</th>\n",
       "      <td>4285</td>\n",
       "      <td>1604982600880000000</td>\n",
       "      <td>1</td>\n",
       "      <td>1</td>\n",
       "      <td>21.5</td>\n",
       "      <td>21.7</td>\n",
       "      <td>1</td>\n",
       "      <td>0.2</td>\n",
       "      <td>0</td>\n",
       "      <td>0.0</td>\n",
       "      <td>1</td>\n",
       "    </tr>\n",
       "    <tr>\n",
       "      <th>6584</th>\n",
       "      <td>6584</td>\n",
       "      <td>1607004000937000000</td>\n",
       "      <td>1</td>\n",
       "      <td>1</td>\n",
       "      <td>7.0</td>\n",
       "      <td>20.9</td>\n",
       "      <td>1</td>\n",
       "      <td>13.9</td>\n",
       "      <td>0</td>\n",
       "      <td>0.0</td>\n",
       "      <td>1</td>\n",
       "    </tr>\n",
       "    <tr>\n",
       "      <th>7132</th>\n",
       "      <td>7132</td>\n",
       "      <td>1607488200589000000</td>\n",
       "      <td>1</td>\n",
       "      <td>1</td>\n",
       "      <td>21.5</td>\n",
       "      <td>21.7</td>\n",
       "      <td>1</td>\n",
       "      <td>0.2</td>\n",
       "      <td>0</td>\n",
       "      <td>0.0</td>\n",
       "      <td>1</td>\n",
       "    </tr>\n",
       "    <tr>\n",
       "      <th>7823</th>\n",
       "      <td>7823</td>\n",
       "      <td>1608093000989000000</td>\n",
       "      <td>1</td>\n",
       "      <td>1</td>\n",
       "      <td>21.5</td>\n",
       "      <td>21.7</td>\n",
       "      <td>1</td>\n",
       "      <td>0.2</td>\n",
       "      <td>0</td>\n",
       "      <td>0.0</td>\n",
       "      <td>1</td>\n",
       "    </tr>\n",
       "    <tr>\n",
       "      <th>7921</th>\n",
       "      <td>7921</td>\n",
       "      <td>1608179400836000000</td>\n",
       "      <td>1</td>\n",
       "      <td>1</td>\n",
       "      <td>21.5</td>\n",
       "      <td>21.7</td>\n",
       "      <td>1</td>\n",
       "      <td>0.2</td>\n",
       "      <td>0</td>\n",
       "      <td>0.0</td>\n",
       "      <td>1</td>\n",
       "    </tr>\n",
       "    <tr>\n",
       "      <th>8513</th>\n",
       "      <td>8513</td>\n",
       "      <td>1608697800753000000</td>\n",
       "      <td>1</td>\n",
       "      <td>1</td>\n",
       "      <td>21.5</td>\n",
       "      <td>21.7</td>\n",
       "      <td>1</td>\n",
       "      <td>0.2</td>\n",
       "      <td>0</td>\n",
       "      <td>0.0</td>\n",
       "      <td>1</td>\n",
       "    </tr>\n",
       "    <tr>\n",
       "      <th>9497</th>\n",
       "      <td>9497</td>\n",
       "      <td>1609561800941000000</td>\n",
       "      <td>1</td>\n",
       "      <td>1</td>\n",
       "      <td>21.5</td>\n",
       "      <td>21.7</td>\n",
       "      <td>1</td>\n",
       "      <td>0.2</td>\n",
       "      <td>0</td>\n",
       "      <td>0.0</td>\n",
       "      <td>1</td>\n",
       "    </tr>\n",
       "    <tr>\n",
       "      <th>10678</th>\n",
       "      <td>10678</td>\n",
       "      <td>1610598600977000000</td>\n",
       "      <td>1</td>\n",
       "      <td>1</td>\n",
       "      <td>21.5</td>\n",
       "      <td>21.7</td>\n",
       "      <td>1</td>\n",
       "      <td>0.2</td>\n",
       "      <td>0</td>\n",
       "      <td>0.0</td>\n",
       "      <td>1</td>\n",
       "    </tr>\n",
       "  </tbody>\n",
       "</table>\n",
       "</div>"
      ],
      "text/plain": [
       "       index                 time  tryb_hol  g_hol  sp_hol  t_hol  \\\n",
       "113      113  1601263800882000000         1      1    21.5   21.7   \n",
       "1317    1317  1602300600675000000         1      1    21.5   21.7   \n",
       "1917    1917  1602819000651000000         1      1    21.5   21.7   \n",
       "2617    2617  1603510200658000000         1      1    21.5   21.7   \n",
       "2909    2909  1603773000790000000         1      1    21.5   21.7   \n",
       "4285    4285  1604982600880000000         1      1    21.5   21.7   \n",
       "6584    6584  1607004000937000000         1      1     7.0   20.9   \n",
       "7132    7132  1607488200589000000         1      1    21.5   21.7   \n",
       "7823    7823  1608093000989000000         1      1    21.5   21.7   \n",
       "7921    7921  1608179400836000000         1      1    21.5   21.7   \n",
       "8513    8513  1608697800753000000         1      1    21.5   21.7   \n",
       "9497    9497  1609561800941000000         1      1    21.5   21.7   \n",
       "10678  10678  1610598600977000000         1      1    21.5   21.7   \n",
       "\n",
       "       przegrzanie  T(t)-T(Sp)  t_rosnąca?  t(x+1)-t(x)  Np_grz  \n",
       "113              1         0.2           0          0.0       1  \n",
       "1317             1         0.2           0          0.0       1  \n",
       "1917             1         0.2           0          0.0       1  \n",
       "2617             1         0.2           0          0.0       1  \n",
       "2909             1         0.2           0          0.0       1  \n",
       "4285             1         0.2           0          0.0       1  \n",
       "6584             1        13.9           0          0.0       1  \n",
       "7132             1         0.2           0          0.0       1  \n",
       "7823             1         0.2           0          0.0       1  \n",
       "7921             1         0.2           0          0.0       1  \n",
       "8513             1         0.2           0          0.0       1  \n",
       "9497             1         0.2           0          0.0       1  \n",
       "10678            1         0.2           0          0.0       1  "
      ]
     },
     "execution_count": 54,
     "metadata": {},
     "output_type": "execute_result"
    }
   ],
   "source": [
    "hol_df[hol_df['Np_grz']>0.0]"
   ]
  },
  {
   "cell_type": "markdown",
   "id": "considerable-coral",
   "metadata": {},
   "source": [
    "# Uczenie maszynowe modeli"
   ]
  },
  {
   "cell_type": "code",
   "execution_count": 55,
   "id": "stopped-satisfaction",
   "metadata": {},
   "outputs": [],
   "source": [
    "import os\n",
    "import sklearn\n",
    "from sklearn.model_selection import train_test_split\n",
    "from sklearn.metrics import accuracy_score\n",
    "from sklearn.model_selection import train_test_split\n",
    "from sklearn.linear_model import LinearRegression\n",
    "from sklearn.tree import DecisionTreeRegressor\n",
    "from sklearn.preprocessing import PolynomialFeatures\n",
    "from sklearn.ensemble import RandomForestRegressor\n",
    "#import tensorflow as tf\n",
    "#from tensorflow import keras\n",
    "from sklearn.linear_model import LogisticRegression\n",
    "from sklearn import preprocessing\n",
    "#import modułów\n",
    "from sklearn import metrics\n",
    "from sklearn.metrics import classification_report\n",
    "from sklearn.metrics import plot_confusion_matrix\n",
    "import matplotlib.pyplot as plt\n",
    "from sklearn.metrics import mean_squared_error\n",
    "from sklearn.metrics import r2_score\n",
    "from sklearn.metrics import mean_absolute_error"
   ]
  },
  {
   "cell_type": "markdown",
   "id": "ordinary-republic",
   "metadata": {},
   "source": [
    "# 1. Przewidywanie temperatury w pokoju: hol"
   ]
  },
  {
   "cell_type": "markdown",
   "id": "seven-chorus",
   "metadata": {},
   "source": [
    "**Celem predykcji będą wartosci z kolumny: `t_hol`, dane inputowe to reszta kolumn**"
   ]
  },
  {
   "cell_type": "code",
   "execution_count": 56,
   "id": "sustainable-baking",
   "metadata": {},
   "outputs": [],
   "source": [
    "temp_y = hol_inne_df['t_hol']"
   ]
  },
  {
   "cell_type": "markdown",
   "id": "alike-aberdeen",
   "metadata": {},
   "source": [
    "**Aby uzyskać wiarygodne wyniki przewidywania temperatury usuniemy z danych treningowych  kolumny, które zbyt oczywiście wskazują na to, jaka będzie temperatura. Czyli usuwamy kolumny: `t_hol`, `t(x+1)-t(x)` - zmiana temperatury, `T(t)-T(Sp)` - różnica między temp pokoju i Setpointem**"
   ]
  },
  {
   "cell_type": "code",
   "execution_count": 57,
   "id": "stainless-breakdown",
   "metadata": {},
   "outputs": [],
   "source": [
    "temp_x = hol_inne_df.drop(['t_hol','t_rosnąca?','T(t)-T(Sp)','t(x+1)-t(x)'], axis=1)"
   ]
  },
  {
   "cell_type": "markdown",
   "id": "radical-softball",
   "metadata": {},
   "source": [
    "**Podział na zbiór testowy i treningowy**"
   ]
  },
  {
   "cell_type": "code",
   "execution_count": 58,
   "id": "laden-brush",
   "metadata": {},
   "outputs": [],
   "source": [
    "train_x, test_x, train_y, test_y = train_test_split(temp_x, temp_y, test_size=0.2, random_state=0)"
   ]
  },
  {
   "cell_type": "markdown",
   "id": "seven-vampire",
   "metadata": {},
   "source": [
    "## 1.1 LinearRegression"
   ]
  },
  {
   "cell_type": "markdown",
   "id": "assured-treatment",
   "metadata": {},
   "source": [
    "#### Przewidywanie temperatury w pokoju: hol"
   ]
  },
  {
   "cell_type": "markdown",
   "id": "lonely-challenge",
   "metadata": {},
   "source": [
    "**Trenowanie modelu**"
   ]
  },
  {
   "cell_type": "code",
   "execution_count": 59,
   "id": "rental-asset",
   "metadata": {},
   "outputs": [
    {
     "name": "stdout",
     "output_type": "stream",
     "text": [
      "WYNIKI: \n",
      "rMSE:  0.3422135894820936\n",
      "r2_score:  -1.3747250697264328\n"
     ]
    }
   ],
   "source": [
    "model = LinearRegression()\n",
    "model.fit(train_x, train_y)\n",
    "\n",
    "lin_pred = model.predict((test_x))\n",
    "print(\"WYNIKI: \")\n",
    "print(\"rMSE: \", np.sqrt(np.mean((lin_pred - test_y) ** 2)))\n",
    "print(\"r2_score: \", r2_score(lin_pred, test_y))\n",
    "\n",
    "wyniks = pd.DataFrame({'prawdziwa': test_y,\n",
    "                       'predykcja': lin_pred,\n",
    "                       'roznica': (test_y - lin_pred)})"
   ]
  },
  {
   "cell_type": "code",
   "execution_count": 60,
   "id": "static-console",
   "metadata": {},
   "outputs": [
    {
     "data": {
      "text/html": [
       "<div>\n",
       "<style scoped>\n",
       "    .dataframe tbody tr th:only-of-type {\n",
       "        vertical-align: middle;\n",
       "    }\n",
       "\n",
       "    .dataframe tbody tr th {\n",
       "        vertical-align: top;\n",
       "    }\n",
       "\n",
       "    .dataframe thead th {\n",
       "        text-align: right;\n",
       "    }\n",
       "</style>\n",
       "<table border=\"1\" class=\"dataframe\">\n",
       "  <thead>\n",
       "    <tr style=\"text-align: right;\">\n",
       "      <th></th>\n",
       "      <th>prawdziwa</th>\n",
       "      <th>predykcja</th>\n",
       "      <th>roznica</th>\n",
       "    </tr>\n",
       "  </thead>\n",
       "  <tbody>\n",
       "    <tr>\n",
       "      <th>10603</th>\n",
       "      <td>22.3</td>\n",
       "      <td>21.919758</td>\n",
       "      <td>0.380242</td>\n",
       "    </tr>\n",
       "    <tr>\n",
       "      <th>2118</th>\n",
       "      <td>22.3</td>\n",
       "      <td>22.278815</td>\n",
       "      <td>0.021185</td>\n",
       "    </tr>\n",
       "    <tr>\n",
       "      <th>4936</th>\n",
       "      <td>21.9</td>\n",
       "      <td>22.123722</td>\n",
       "      <td>-0.223722</td>\n",
       "    </tr>\n",
       "    <tr>\n",
       "      <th>2164</th>\n",
       "      <td>20.9</td>\n",
       "      <td>22.249528</td>\n",
       "      <td>-1.349528</td>\n",
       "    </tr>\n",
       "    <tr>\n",
       "      <th>5124</th>\n",
       "      <td>22.1</td>\n",
       "      <td>22.168915</td>\n",
       "      <td>-0.068915</td>\n",
       "    </tr>\n",
       "    <tr>\n",
       "      <th>...</th>\n",
       "      <td>...</td>\n",
       "      <td>...</td>\n",
       "      <td>...</td>\n",
       "    </tr>\n",
       "    <tr>\n",
       "      <th>7467</th>\n",
       "      <td>22.1</td>\n",
       "      <td>21.967351</td>\n",
       "      <td>0.132649</td>\n",
       "    </tr>\n",
       "    <tr>\n",
       "      <th>415</th>\n",
       "      <td>21.9</td>\n",
       "      <td>21.976201</td>\n",
       "      <td>-0.076201</td>\n",
       "    </tr>\n",
       "    <tr>\n",
       "      <th>6800</th>\n",
       "      <td>21.9</td>\n",
       "      <td>22.030209</td>\n",
       "      <td>-0.130209</td>\n",
       "    </tr>\n",
       "    <tr>\n",
       "      <th>7900</th>\n",
       "      <td>21.1</td>\n",
       "      <td>21.692629</td>\n",
       "      <td>-0.592629</td>\n",
       "    </tr>\n",
       "    <tr>\n",
       "      <th>3634</th>\n",
       "      <td>22.7</td>\n",
       "      <td>22.312036</td>\n",
       "      <td>0.387964</td>\n",
       "    </tr>\n",
       "  </tbody>\n",
       "</table>\n",
       "<p>2274 rows × 3 columns</p>\n",
       "</div>"
      ],
      "text/plain": [
       "       prawdziwa  predykcja   roznica\n",
       "10603       22.3  21.919758  0.380242\n",
       "2118        22.3  22.278815  0.021185\n",
       "4936        21.9  22.123722 -0.223722\n",
       "2164        20.9  22.249528 -1.349528\n",
       "5124        22.1  22.168915 -0.068915\n",
       "...          ...        ...       ...\n",
       "7467        22.1  21.967351  0.132649\n",
       "415         21.9  21.976201 -0.076201\n",
       "6800        21.9  22.030209 -0.130209\n",
       "7900        21.1  21.692629 -0.592629\n",
       "3634        22.7  22.312036  0.387964\n",
       "\n",
       "[2274 rows x 3 columns]"
      ]
     },
     "execution_count": 60,
     "metadata": {},
     "output_type": "execute_result"
    }
   ],
   "source": [
    "wyniks"
   ]
  },
  {
   "cell_type": "markdown",
   "id": "ecological-hindu",
   "metadata": {},
   "source": [
    "## 1.2 DecisionTreeRegressor"
   ]
  },
  {
   "cell_type": "markdown",
   "id": "immune-serve",
   "metadata": {},
   "source": [
    "#### Przewidywanie temperatury w pokoju: hol"
   ]
  },
  {
   "cell_type": "code",
   "execution_count": 61,
   "id": "inner-terminology",
   "metadata": {},
   "outputs": [
    {
     "name": "stdout",
     "output_type": "stream",
     "text": [
      "WYNIKI: \n",
      "rMSE:  0.10493537819622868\n",
      "r2_score:  0.9296127565345559\n"
     ]
    }
   ],
   "source": [
    "regressor = DecisionTreeRegressor(random_state=5)\n",
    "regressor.fit(train_x, train_y)\n",
    "\n",
    "tree_pred = regressor.predict(test_x)\n",
    "print(\"WYNIKI: \")\n",
    "print(\"rMSE: \", np.sqrt(np.mean((tree_pred - test_y) ** 2)))\n",
    "print(\"r2_score: \", r2_score(tree_pred, test_y))\n",
    "\n",
    "wyniks2 = pd.DataFrame({'prawdziwe': test_y,\n",
    "                        'predykcja': tree_pred,\n",
    "                        'roznica': (test_y - tree_pred)})\n",
    "\n"
   ]
  },
  {
   "cell_type": "code",
   "execution_count": 62,
   "id": "meaning-mailing",
   "metadata": {},
   "outputs": [
    {
     "data": {
      "text/html": [
       "<div>\n",
       "<style scoped>\n",
       "    .dataframe tbody tr th:only-of-type {\n",
       "        vertical-align: middle;\n",
       "    }\n",
       "\n",
       "    .dataframe tbody tr th {\n",
       "        vertical-align: top;\n",
       "    }\n",
       "\n",
       "    .dataframe thead th {\n",
       "        text-align: right;\n",
       "    }\n",
       "</style>\n",
       "<table border=\"1\" class=\"dataframe\">\n",
       "  <thead>\n",
       "    <tr style=\"text-align: right;\">\n",
       "      <th></th>\n",
       "      <th>prawdziwe</th>\n",
       "      <th>predykcja</th>\n",
       "      <th>roznica</th>\n",
       "    </tr>\n",
       "  </thead>\n",
       "  <tbody>\n",
       "    <tr>\n",
       "      <th>10603</th>\n",
       "      <td>22.3</td>\n",
       "      <td>22.3</td>\n",
       "      <td>0.000000e+00</td>\n",
       "    </tr>\n",
       "    <tr>\n",
       "      <th>2118</th>\n",
       "      <td>22.3</td>\n",
       "      <td>22.5</td>\n",
       "      <td>-2.000000e-01</td>\n",
       "    </tr>\n",
       "    <tr>\n",
       "      <th>4936</th>\n",
       "      <td>21.9</td>\n",
       "      <td>21.9</td>\n",
       "      <td>0.000000e+00</td>\n",
       "    </tr>\n",
       "    <tr>\n",
       "      <th>2164</th>\n",
       "      <td>20.9</td>\n",
       "      <td>20.7</td>\n",
       "      <td>2.000000e-01</td>\n",
       "    </tr>\n",
       "    <tr>\n",
       "      <th>5124</th>\n",
       "      <td>22.1</td>\n",
       "      <td>22.3</td>\n",
       "      <td>-2.000000e-01</td>\n",
       "    </tr>\n",
       "    <tr>\n",
       "      <th>...</th>\n",
       "      <td>...</td>\n",
       "      <td>...</td>\n",
       "      <td>...</td>\n",
       "    </tr>\n",
       "    <tr>\n",
       "      <th>7467</th>\n",
       "      <td>22.1</td>\n",
       "      <td>22.1</td>\n",
       "      <td>3.552714e-15</td>\n",
       "    </tr>\n",
       "    <tr>\n",
       "      <th>415</th>\n",
       "      <td>21.9</td>\n",
       "      <td>21.9</td>\n",
       "      <td>0.000000e+00</td>\n",
       "    </tr>\n",
       "    <tr>\n",
       "      <th>6800</th>\n",
       "      <td>21.9</td>\n",
       "      <td>21.9</td>\n",
       "      <td>-3.552714e-15</td>\n",
       "    </tr>\n",
       "    <tr>\n",
       "      <th>7900</th>\n",
       "      <td>21.1</td>\n",
       "      <td>21.1</td>\n",
       "      <td>0.000000e+00</td>\n",
       "    </tr>\n",
       "    <tr>\n",
       "      <th>3634</th>\n",
       "      <td>22.7</td>\n",
       "      <td>22.5</td>\n",
       "      <td>2.000000e-01</td>\n",
       "    </tr>\n",
       "  </tbody>\n",
       "</table>\n",
       "<p>2274 rows × 3 columns</p>\n",
       "</div>"
      ],
      "text/plain": [
       "       prawdziwe  predykcja       roznica\n",
       "10603       22.3       22.3  0.000000e+00\n",
       "2118        22.3       22.5 -2.000000e-01\n",
       "4936        21.9       21.9  0.000000e+00\n",
       "2164        20.9       20.7  2.000000e-01\n",
       "5124        22.1       22.3 -2.000000e-01\n",
       "...          ...        ...           ...\n",
       "7467        22.1       22.1  3.552714e-15\n",
       "415         21.9       21.9  0.000000e+00\n",
       "6800        21.9       21.9 -3.552714e-15\n",
       "7900        21.1       21.1  0.000000e+00\n",
       "3634        22.7       22.5  2.000000e-01\n",
       "\n",
       "[2274 rows x 3 columns]"
      ]
     },
     "execution_count": 62,
     "metadata": {},
     "output_type": "execute_result"
    }
   ],
   "source": [
    "wyniks2"
   ]
  },
  {
   "cell_type": "markdown",
   "id": "julian-verification",
   "metadata": {},
   "source": [
    "## 1.3.1 RandomForestRegressor"
   ]
  },
  {
   "cell_type": "markdown",
   "id": "basic-proof",
   "metadata": {},
   "source": [
    "#### Przewidywanie temperatury w pokoju: hol"
   ]
  },
  {
   "cell_type": "code",
   "execution_count": 63,
   "id": "close-estimate",
   "metadata": {},
   "outputs": [
    {
     "name": "stdout",
     "output_type": "stream",
     "text": [
      "WYNIKI: \n",
      "rMSE:  0.09105526715725455\n",
      "r2_score:  0.9447055450236677\n"
     ]
    }
   ],
   "source": [
    "regr = RandomForestRegressor(max_depth=30, random_state=0, n_estimators=100)\n",
    "regr.fit(train_x, train_y)\n",
    "\n",
    "forest_pred = regr.predict(test_x)\n",
    "print(\"WYNIKI: \")\n",
    "print(\"rMSE: \", np.sqrt(np.mean((forest_pred - test_y) ** 2)))\n",
    "print(\"r2_score: \", r2_score(forest_pred, test_y))\n",
    "\n",
    "wyniks3 = pd.DataFrame({'prawdziwe': test_y,\n",
    "                        'predykcja': forest_pred,\n",
    "                        'roznica': (test_y - forest_pred)})\n"
   ]
  },
  {
   "cell_type": "code",
   "execution_count": 64,
   "id": "seasonal-corporation",
   "metadata": {},
   "outputs": [
    {
     "data": {
      "text/html": [
       "<div>\n",
       "<style scoped>\n",
       "    .dataframe tbody tr th:only-of-type {\n",
       "        vertical-align: middle;\n",
       "    }\n",
       "\n",
       "    .dataframe tbody tr th {\n",
       "        vertical-align: top;\n",
       "    }\n",
       "\n",
       "    .dataframe thead th {\n",
       "        text-align: right;\n",
       "    }\n",
       "</style>\n",
       "<table border=\"1\" class=\"dataframe\">\n",
       "  <thead>\n",
       "    <tr style=\"text-align: right;\">\n",
       "      <th></th>\n",
       "      <th>prawdziwe</th>\n",
       "      <th>predykcja</th>\n",
       "      <th>roznica</th>\n",
       "    </tr>\n",
       "  </thead>\n",
       "  <tbody>\n",
       "    <tr>\n",
       "      <th>10603</th>\n",
       "      <td>22.3</td>\n",
       "      <td>22.321200</td>\n",
       "      <td>-0.021200</td>\n",
       "    </tr>\n",
       "    <tr>\n",
       "      <th>2118</th>\n",
       "      <td>22.3</td>\n",
       "      <td>22.528000</td>\n",
       "      <td>-0.228000</td>\n",
       "    </tr>\n",
       "    <tr>\n",
       "      <th>4936</th>\n",
       "      <td>21.9</td>\n",
       "      <td>21.835350</td>\n",
       "      <td>0.064650</td>\n",
       "    </tr>\n",
       "    <tr>\n",
       "      <th>2164</th>\n",
       "      <td>20.9</td>\n",
       "      <td>21.052000</td>\n",
       "      <td>-0.152000</td>\n",
       "    </tr>\n",
       "    <tr>\n",
       "      <th>5124</th>\n",
       "      <td>22.1</td>\n",
       "      <td>22.262800</td>\n",
       "      <td>-0.162800</td>\n",
       "    </tr>\n",
       "    <tr>\n",
       "      <th>...</th>\n",
       "      <td>...</td>\n",
       "      <td>...</td>\n",
       "      <td>...</td>\n",
       "    </tr>\n",
       "    <tr>\n",
       "      <th>7467</th>\n",
       "      <td>22.1</td>\n",
       "      <td>22.102000</td>\n",
       "      <td>-0.002000</td>\n",
       "    </tr>\n",
       "    <tr>\n",
       "      <th>415</th>\n",
       "      <td>21.9</td>\n",
       "      <td>21.938000</td>\n",
       "      <td>-0.038000</td>\n",
       "    </tr>\n",
       "    <tr>\n",
       "      <th>6800</th>\n",
       "      <td>21.9</td>\n",
       "      <td>21.834000</td>\n",
       "      <td>0.066000</td>\n",
       "    </tr>\n",
       "    <tr>\n",
       "      <th>7900</th>\n",
       "      <td>21.1</td>\n",
       "      <td>21.185333</td>\n",
       "      <td>-0.085333</td>\n",
       "    </tr>\n",
       "    <tr>\n",
       "      <th>3634</th>\n",
       "      <td>22.7</td>\n",
       "      <td>22.506000</td>\n",
       "      <td>0.194000</td>\n",
       "    </tr>\n",
       "  </tbody>\n",
       "</table>\n",
       "<p>2274 rows × 3 columns</p>\n",
       "</div>"
      ],
      "text/plain": [
       "       prawdziwe  predykcja   roznica\n",
       "10603       22.3  22.321200 -0.021200\n",
       "2118        22.3  22.528000 -0.228000\n",
       "4936        21.9  21.835350  0.064650\n",
       "2164        20.9  21.052000 -0.152000\n",
       "5124        22.1  22.262800 -0.162800\n",
       "...          ...        ...       ...\n",
       "7467        22.1  22.102000 -0.002000\n",
       "415         21.9  21.938000 -0.038000\n",
       "6800        21.9  21.834000  0.066000\n",
       "7900        21.1  21.185333 -0.085333\n",
       "3634        22.7  22.506000  0.194000\n",
       "\n",
       "[2274 rows x 3 columns]"
      ]
     },
     "execution_count": 64,
     "metadata": {},
     "output_type": "execute_result"
    }
   ],
   "source": [
    "wyniks3"
   ]
  },
  {
   "cell_type": "markdown",
   "id": "fifteen-apparatus",
   "metadata": {},
   "source": [
    "### 1.3.2 Przewidywanie temperatury w pokoju: gabinet (dane treningowe z holu)"
   ]
  },
  {
   "cell_type": "markdown",
   "id": "gothic-expansion",
   "metadata": {},
   "source": [
    "**Celem predykcji będą wartosci z kolumny: `t_gabinet`, dane inputowe to reszta kolumn**"
   ]
  },
  {
   "cell_type": "code",
   "execution_count": 65,
   "id": "fluid-porter",
   "metadata": {},
   "outputs": [],
   "source": [
    "temp_y = gabinet_df['t_gabinet']"
   ]
  },
  {
   "cell_type": "markdown",
   "id": "liberal-animation",
   "metadata": {},
   "source": [
    "**Aby uzyskać wiarygodne wyniki przewidywania temperatury usuniemy z danych treningowych  kolumny, które zbyt oczywiście wskazują na to, jaka będzie temperatura. Czyli usuwamy kolumny: `t_hol`, `t(x+1)-t(x)` - zmiana temperatury, `T(t)-T(Sp)` - różnica między temp pokoju i Setpointem**"
   ]
  },
  {
   "cell_type": "code",
   "execution_count": 66,
   "id": "periodic-sister",
   "metadata": {},
   "outputs": [],
   "source": [
    "temp_x = hol_inne_df.drop(['t_hol','t_rosnąca?','T(t)-T(Sp)','t(x+1)-t(x)'], axis=1)"
   ]
  },
  {
   "cell_type": "markdown",
   "id": "violent-freeze",
   "metadata": {},
   "source": [
    "**Podział na zbiór testowy i treningowy**"
   ]
  },
  {
   "cell_type": "code",
   "execution_count": 67,
   "id": "velvet-citizen",
   "metadata": {},
   "outputs": [],
   "source": [
    "train_x, test_x, train_y, test_y = train_test_split(temp_x, temp_y, test_size=0.2, random_state=0)"
   ]
  },
  {
   "cell_type": "markdown",
   "id": "sporting-pastor",
   "metadata": {},
   "source": [
    "**Trenowanie modelu**"
   ]
  },
  {
   "cell_type": "code",
   "execution_count": 68,
   "id": "adaptive-blake",
   "metadata": {},
   "outputs": [
    {
     "name": "stdout",
     "output_type": "stream",
     "text": [
      "WYNIKI: \n",
      "rMSE:  0.1253145019538007\n",
      "r2_score:  0.9152926121589327\n"
     ]
    }
   ],
   "source": [
    "regr = RandomForestRegressor(max_depth=30, random_state=0, n_estimators=100)\n",
    "regr.fit(train_x, train_y)\n",
    "\n",
    "forest_predd = regr.predict(test_x)\n",
    "print(\"WYNIKI: \")\n",
    "print(\"rMSE: \", np.sqrt(np.mean((forest_predd - test_y) ** 2)))\n",
    "print(\"r2_score: \", r2_score(forest_predd, test_y))\n",
    "\n",
    "wyniks4 = pd.DataFrame({'prawdziwe': test_y,\n",
    "                        'predykcja': forest_predd,\n",
    "                        'roznica': (test_y - forest_predd)})\n"
   ]
  },
  {
   "cell_type": "code",
   "execution_count": 69,
   "id": "sensitive-round",
   "metadata": {},
   "outputs": [
    {
     "data": {
      "text/html": [
       "<div>\n",
       "<style scoped>\n",
       "    .dataframe tbody tr th:only-of-type {\n",
       "        vertical-align: middle;\n",
       "    }\n",
       "\n",
       "    .dataframe tbody tr th {\n",
       "        vertical-align: top;\n",
       "    }\n",
       "\n",
       "    .dataframe thead th {\n",
       "        text-align: right;\n",
       "    }\n",
       "</style>\n",
       "<table border=\"1\" class=\"dataframe\">\n",
       "  <thead>\n",
       "    <tr style=\"text-align: right;\">\n",
       "      <th></th>\n",
       "      <th>prawdziwe</th>\n",
       "      <th>predykcja</th>\n",
       "      <th>roznica</th>\n",
       "    </tr>\n",
       "  </thead>\n",
       "  <tbody>\n",
       "    <tr>\n",
       "      <th>10603</th>\n",
       "      <td>21.8</td>\n",
       "      <td>21.856888</td>\n",
       "      <td>-0.056888</td>\n",
       "    </tr>\n",
       "    <tr>\n",
       "      <th>2118</th>\n",
       "      <td>21.4</td>\n",
       "      <td>21.896124</td>\n",
       "      <td>-0.496124</td>\n",
       "    </tr>\n",
       "    <tr>\n",
       "      <th>4936</th>\n",
       "      <td>21.8</td>\n",
       "      <td>21.797371</td>\n",
       "      <td>0.002629</td>\n",
       "    </tr>\n",
       "    <tr>\n",
       "      <th>2164</th>\n",
       "      <td>20.0</td>\n",
       "      <td>20.376000</td>\n",
       "      <td>-0.376000</td>\n",
       "    </tr>\n",
       "    <tr>\n",
       "      <th>5124</th>\n",
       "      <td>22.2</td>\n",
       "      <td>22.191516</td>\n",
       "      <td>0.008484</td>\n",
       "    </tr>\n",
       "    <tr>\n",
       "      <th>...</th>\n",
       "      <td>...</td>\n",
       "      <td>...</td>\n",
       "      <td>...</td>\n",
       "    </tr>\n",
       "    <tr>\n",
       "      <th>7467</th>\n",
       "      <td>22.0</td>\n",
       "      <td>22.043099</td>\n",
       "      <td>-0.043099</td>\n",
       "    </tr>\n",
       "    <tr>\n",
       "      <th>415</th>\n",
       "      <td>21.8</td>\n",
       "      <td>21.772000</td>\n",
       "      <td>0.028000</td>\n",
       "    </tr>\n",
       "    <tr>\n",
       "      <th>6800</th>\n",
       "      <td>22.0</td>\n",
       "      <td>21.990044</td>\n",
       "      <td>0.009956</td>\n",
       "    </tr>\n",
       "    <tr>\n",
       "      <th>7900</th>\n",
       "      <td>21.6</td>\n",
       "      <td>21.700000</td>\n",
       "      <td>-0.100000</td>\n",
       "    </tr>\n",
       "    <tr>\n",
       "      <th>3634</th>\n",
       "      <td>22.2</td>\n",
       "      <td>22.008000</td>\n",
       "      <td>0.192000</td>\n",
       "    </tr>\n",
       "  </tbody>\n",
       "</table>\n",
       "<p>2274 rows × 3 columns</p>\n",
       "</div>"
      ],
      "text/plain": [
       "       prawdziwe  predykcja   roznica\n",
       "10603       21.8  21.856888 -0.056888\n",
       "2118        21.4  21.896124 -0.496124\n",
       "4936        21.8  21.797371  0.002629\n",
       "2164        20.0  20.376000 -0.376000\n",
       "5124        22.2  22.191516  0.008484\n",
       "...          ...        ...       ...\n",
       "7467        22.0  22.043099 -0.043099\n",
       "415         21.8  21.772000  0.028000\n",
       "6800        22.0  21.990044  0.009956\n",
       "7900        21.6  21.700000 -0.100000\n",
       "3634        22.2  22.008000  0.192000\n",
       "\n",
       "[2274 rows x 3 columns]"
      ]
     },
     "execution_count": 69,
     "metadata": {},
     "output_type": "execute_result"
    }
   ],
   "source": [
    "wyniks4"
   ]
  },
  {
   "cell_type": "markdown",
   "id": "attractive-lecture",
   "metadata": {},
   "source": [
    "# 2. Przewidywanie ZMIANY temperatury w pokoju: hol"
   ]
  },
  {
   "cell_type": "markdown",
   "id": "developmental-vietnamese",
   "metadata": {},
   "source": [
    "**Celem predykcji będą wartosci z kolumny: `t(x+1)-t(x)`, dane inputowe to reszta kolumn**"
   ]
  },
  {
   "cell_type": "code",
   "execution_count": 70,
   "id": "square-snapshot",
   "metadata": {},
   "outputs": [],
   "source": [
    "temp_y2 = hol_inne_df['t(x+1)-t(x)']\n",
    "temp_x2 = hol_inne_df.drop('t(x+1)-t(x)', axis=1)"
   ]
  },
  {
   "cell_type": "markdown",
   "id": "russian-armstrong",
   "metadata": {},
   "source": [
    "**Podział na zbiór testowy i treningowy**"
   ]
  },
  {
   "cell_type": "code",
   "execution_count": 71,
   "id": "introductory-australia",
   "metadata": {},
   "outputs": [],
   "source": [
    "train_x, test_x, train_y, test_y = train_test_split(temp_x2, temp_y2, test_size=0.2, random_state=4)"
   ]
  },
  {
   "cell_type": "markdown",
   "id": "oriented-variance",
   "metadata": {},
   "source": [
    "## 2.1 LinearRegression"
   ]
  },
  {
   "cell_type": "markdown",
   "id": "hybrid-niger",
   "metadata": {},
   "source": [
    "#### Przewidywanie ZMIANY temperatury w pokoju: hol"
   ]
  },
  {
   "cell_type": "markdown",
   "id": "hundred-information",
   "metadata": {},
   "source": [
    "**Trenowanie modelu**"
   ]
  },
  {
   "cell_type": "code",
   "execution_count": 72,
   "id": "overall-exclusion",
   "metadata": {},
   "outputs": [
    {
     "name": "stdout",
     "output_type": "stream",
     "text": [
      "WYNIKI: \n",
      "rMSE:  0.10124080427184173\n",
      "r2_score:  -25.98507442809259\n"
     ]
    }
   ],
   "source": [
    "model = LinearRegression()\n",
    "model.fit(train_x, train_y)\n",
    "\n",
    "lin_pred2 = model.predict((test_x))\n",
    "print(\"WYNIKI: \")\n",
    "print(\"rMSE: \", np.sqrt(np.mean((lin_pred2 - test_y) ** 2)))\n",
    "print(\"r2_score: \", r2_score(lin_pred2, test_y))\n",
    "\n",
    "wynik1 = pd.DataFrame({'prawdziwa': test_y,\n",
    "                       'predykcja': lin_pred2,\n",
    "                       'roznica': (test_y - lin_pred2)})"
   ]
  },
  {
   "cell_type": "code",
   "execution_count": 73,
   "id": "polar-radar",
   "metadata": {},
   "outputs": [
    {
     "data": {
      "text/html": [
       "<div>\n",
       "<style scoped>\n",
       "    .dataframe tbody tr th:only-of-type {\n",
       "        vertical-align: middle;\n",
       "    }\n",
       "\n",
       "    .dataframe tbody tr th {\n",
       "        vertical-align: top;\n",
       "    }\n",
       "\n",
       "    .dataframe thead th {\n",
       "        text-align: right;\n",
       "    }\n",
       "</style>\n",
       "<table border=\"1\" class=\"dataframe\">\n",
       "  <thead>\n",
       "    <tr style=\"text-align: right;\">\n",
       "      <th></th>\n",
       "      <th>prawdziwa</th>\n",
       "      <th>predykcja</th>\n",
       "      <th>roznica</th>\n",
       "    </tr>\n",
       "  </thead>\n",
       "  <tbody>\n",
       "    <tr>\n",
       "      <th>7484</th>\n",
       "      <td>0.0</td>\n",
       "      <td>0.016901</td>\n",
       "      <td>-0.016901</td>\n",
       "    </tr>\n",
       "    <tr>\n",
       "      <th>11234</th>\n",
       "      <td>0.0</td>\n",
       "      <td>-0.023480</td>\n",
       "      <td>0.023480</td>\n",
       "    </tr>\n",
       "    <tr>\n",
       "      <th>7332</th>\n",
       "      <td>0.0</td>\n",
       "      <td>0.012848</td>\n",
       "      <td>-0.012848</td>\n",
       "    </tr>\n",
       "    <tr>\n",
       "      <th>2121</th>\n",
       "      <td>0.0</td>\n",
       "      <td>0.011554</td>\n",
       "      <td>-0.011554</td>\n",
       "    </tr>\n",
       "    <tr>\n",
       "      <th>944</th>\n",
       "      <td>0.0</td>\n",
       "      <td>-0.024392</td>\n",
       "      <td>0.024392</td>\n",
       "    </tr>\n",
       "    <tr>\n",
       "      <th>...</th>\n",
       "      <td>...</td>\n",
       "      <td>...</td>\n",
       "      <td>...</td>\n",
       "    </tr>\n",
       "    <tr>\n",
       "      <th>1927</th>\n",
       "      <td>0.0</td>\n",
       "      <td>0.016263</td>\n",
       "      <td>-0.016263</td>\n",
       "    </tr>\n",
       "    <tr>\n",
       "      <th>9830</th>\n",
       "      <td>0.0</td>\n",
       "      <td>0.015108</td>\n",
       "      <td>-0.015108</td>\n",
       "    </tr>\n",
       "    <tr>\n",
       "      <th>10868</th>\n",
       "      <td>0.0</td>\n",
       "      <td>0.020719</td>\n",
       "      <td>-0.020719</td>\n",
       "    </tr>\n",
       "    <tr>\n",
       "      <th>3314</th>\n",
       "      <td>0.0</td>\n",
       "      <td>0.012460</td>\n",
       "      <td>-0.012460</td>\n",
       "    </tr>\n",
       "    <tr>\n",
       "      <th>3635</th>\n",
       "      <td>0.0</td>\n",
       "      <td>0.006029</td>\n",
       "      <td>-0.006029</td>\n",
       "    </tr>\n",
       "  </tbody>\n",
       "</table>\n",
       "<p>2274 rows × 3 columns</p>\n",
       "</div>"
      ],
      "text/plain": [
       "       prawdziwa  predykcja   roznica\n",
       "7484         0.0   0.016901 -0.016901\n",
       "11234        0.0  -0.023480  0.023480\n",
       "7332         0.0   0.012848 -0.012848\n",
       "2121         0.0   0.011554 -0.011554\n",
       "944          0.0  -0.024392  0.024392\n",
       "...          ...        ...       ...\n",
       "1927         0.0   0.016263 -0.016263\n",
       "9830         0.0   0.015108 -0.015108\n",
       "10868        0.0   0.020719 -0.020719\n",
       "3314         0.0   0.012460 -0.012460\n",
       "3635         0.0   0.006029 -0.006029\n",
       "\n",
       "[2274 rows x 3 columns]"
      ]
     },
     "execution_count": 73,
     "metadata": {},
     "output_type": "execute_result"
    }
   ],
   "source": [
    "wynik1"
   ]
  },
  {
   "cell_type": "markdown",
   "id": "large-remark",
   "metadata": {},
   "source": [
    "## 2.2 DecisionTreeRegressor"
   ]
  },
  {
   "cell_type": "markdown",
   "id": "intended-maintenance",
   "metadata": {},
   "source": [
    "#### Przewidywanie ZMIANY temperatury w pokoju: hol"
   ]
  },
  {
   "cell_type": "markdown",
   "id": "understanding-fairy",
   "metadata": {},
   "source": [
    "**Trenowanie modelu**"
   ]
  },
  {
   "cell_type": "code",
   "execution_count": 74,
   "id": "israeli-andrew",
   "metadata": {},
   "outputs": [
    {
     "name": "stdout",
     "output_type": "stream",
     "text": [
      "WYNIKI: \n",
      "rMSE:  0.0916716637320302\n",
      "r2_score:  -0.010458218166285782\n"
     ]
    }
   ],
   "source": [
    "regressor = DecisionTreeRegressor(random_state=5)\n",
    "regressor.fit(train_x, train_y)\n",
    "\n",
    "tree_pred2 = regressor.predict(test_x)\n",
    "print(\"WYNIKI: \")\n",
    "print(\"rMSE: \", np.sqrt(np.mean((tree_pred2 - test_y) ** 2)))\n",
    "print(\"r2_score: \", r2_score(tree_pred2, test_y))\n",
    "\n",
    "wynik2 = pd.DataFrame({'prawdziwe': test_y,\n",
    "                        'predykcja': tree_pred2,\n",
    "                        'roznica': (test_y - tree_pred2)})\n",
    "\n"
   ]
  },
  {
   "cell_type": "code",
   "execution_count": 75,
   "id": "fancy-cinema",
   "metadata": {},
   "outputs": [
    {
     "data": {
      "text/html": [
       "<div>\n",
       "<style scoped>\n",
       "    .dataframe tbody tr th:only-of-type {\n",
       "        vertical-align: middle;\n",
       "    }\n",
       "\n",
       "    .dataframe tbody tr th {\n",
       "        vertical-align: top;\n",
       "    }\n",
       "\n",
       "    .dataframe thead th {\n",
       "        text-align: right;\n",
       "    }\n",
       "</style>\n",
       "<table border=\"1\" class=\"dataframe\">\n",
       "  <thead>\n",
       "    <tr style=\"text-align: right;\">\n",
       "      <th></th>\n",
       "      <th>prawdziwe</th>\n",
       "      <th>predykcja</th>\n",
       "      <th>roznica</th>\n",
       "    </tr>\n",
       "  </thead>\n",
       "  <tbody>\n",
       "    <tr>\n",
       "      <th>7484</th>\n",
       "      <td>0.0</td>\n",
       "      <td>0.0</td>\n",
       "      <td>0.0</td>\n",
       "    </tr>\n",
       "    <tr>\n",
       "      <th>11234</th>\n",
       "      <td>0.0</td>\n",
       "      <td>0.0</td>\n",
       "      <td>0.0</td>\n",
       "    </tr>\n",
       "    <tr>\n",
       "      <th>7332</th>\n",
       "      <td>0.0</td>\n",
       "      <td>0.0</td>\n",
       "      <td>0.0</td>\n",
       "    </tr>\n",
       "    <tr>\n",
       "      <th>2121</th>\n",
       "      <td>0.0</td>\n",
       "      <td>0.0</td>\n",
       "      <td>0.0</td>\n",
       "    </tr>\n",
       "    <tr>\n",
       "      <th>944</th>\n",
       "      <td>0.0</td>\n",
       "      <td>0.0</td>\n",
       "      <td>0.0</td>\n",
       "    </tr>\n",
       "    <tr>\n",
       "      <th>...</th>\n",
       "      <td>...</td>\n",
       "      <td>...</td>\n",
       "      <td>...</td>\n",
       "    </tr>\n",
       "    <tr>\n",
       "      <th>1927</th>\n",
       "      <td>0.0</td>\n",
       "      <td>0.0</td>\n",
       "      <td>0.0</td>\n",
       "    </tr>\n",
       "    <tr>\n",
       "      <th>9830</th>\n",
       "      <td>0.0</td>\n",
       "      <td>0.0</td>\n",
       "      <td>0.0</td>\n",
       "    </tr>\n",
       "    <tr>\n",
       "      <th>10868</th>\n",
       "      <td>0.0</td>\n",
       "      <td>0.0</td>\n",
       "      <td>0.0</td>\n",
       "    </tr>\n",
       "    <tr>\n",
       "      <th>3314</th>\n",
       "      <td>0.0</td>\n",
       "      <td>0.0</td>\n",
       "      <td>0.0</td>\n",
       "    </tr>\n",
       "    <tr>\n",
       "      <th>3635</th>\n",
       "      <td>0.0</td>\n",
       "      <td>0.0</td>\n",
       "      <td>0.0</td>\n",
       "    </tr>\n",
       "  </tbody>\n",
       "</table>\n",
       "<p>2274 rows × 3 columns</p>\n",
       "</div>"
      ],
      "text/plain": [
       "       prawdziwe  predykcja  roznica\n",
       "7484         0.0        0.0      0.0\n",
       "11234        0.0        0.0      0.0\n",
       "7332         0.0        0.0      0.0\n",
       "2121         0.0        0.0      0.0\n",
       "944          0.0        0.0      0.0\n",
       "...          ...        ...      ...\n",
       "1927         0.0        0.0      0.0\n",
       "9830         0.0        0.0      0.0\n",
       "10868        0.0        0.0      0.0\n",
       "3314         0.0        0.0      0.0\n",
       "3635         0.0        0.0      0.0\n",
       "\n",
       "[2274 rows x 3 columns]"
      ]
     },
     "execution_count": 75,
     "metadata": {},
     "output_type": "execute_result"
    }
   ],
   "source": [
    "wynik2"
   ]
  },
  {
   "cell_type": "markdown",
   "id": "finished-slovak",
   "metadata": {},
   "source": [
    "## 2.3 RandomForestRegressor"
   ]
  },
  {
   "cell_type": "markdown",
   "id": "acceptable-oakland",
   "metadata": {},
   "source": [
    "#### Przewidywanie ZMIANY temperatury w pokoju: hol"
   ]
  },
  {
   "cell_type": "markdown",
   "id": "finnish-delight",
   "metadata": {},
   "source": [
    "**Trenowanie modelu**"
   ]
  },
  {
   "cell_type": "code",
   "execution_count": 76,
   "id": "productive-taiwan",
   "metadata": {},
   "outputs": [
    {
     "name": "stdout",
     "output_type": "stream",
     "text": [
      "WYNIKI: \n",
      "rMSE:  0.07348188938672096\n",
      "r2_score:  0.10608489062122184\n"
     ]
    }
   ],
   "source": [
    "regr = RandomForestRegressor(max_depth=10, random_state=4, n_estimators=3)\n",
    "regr.fit(train_x, train_y)\n",
    "\n",
    "forest_pred3 = regr.predict(test_x)\n",
    "print(\"WYNIKI: \")\n",
    "print(\"rMSE: \", np.sqrt(np.mean((forest_pred3 - test_y) ** 2)))\n",
    "print(\"r2_score: \", r2_score(forest_pred3, test_y))\n",
    "\n",
    "wynik3= pd.DataFrame({'prawdziwe': test_y,\n",
    "                        'predykcja': forest_pred3,\n",
    "                        'roznica': (test_y - forest_pred3)})\n"
   ]
  },
  {
   "cell_type": "code",
   "execution_count": 77,
   "id": "meaning-afghanistan",
   "metadata": {},
   "outputs": [
    {
     "data": {
      "text/html": [
       "<div>\n",
       "<style scoped>\n",
       "    .dataframe tbody tr th:only-of-type {\n",
       "        vertical-align: middle;\n",
       "    }\n",
       "\n",
       "    .dataframe tbody tr th {\n",
       "        vertical-align: top;\n",
       "    }\n",
       "\n",
       "    .dataframe thead th {\n",
       "        text-align: right;\n",
       "    }\n",
       "</style>\n",
       "<table border=\"1\" class=\"dataframe\">\n",
       "  <thead>\n",
       "    <tr style=\"text-align: right;\">\n",
       "      <th></th>\n",
       "      <th>prawdziwe</th>\n",
       "      <th>predykcja</th>\n",
       "      <th>roznica</th>\n",
       "    </tr>\n",
       "  </thead>\n",
       "  <tbody>\n",
       "    <tr>\n",
       "      <th>7484</th>\n",
       "      <td>0.0</td>\n",
       "      <td>-0.028375</td>\n",
       "      <td>0.028375</td>\n",
       "    </tr>\n",
       "    <tr>\n",
       "      <th>11234</th>\n",
       "      <td>0.0</td>\n",
       "      <td>-0.036468</td>\n",
       "      <td>0.036468</td>\n",
       "    </tr>\n",
       "    <tr>\n",
       "      <th>7332</th>\n",
       "      <td>0.0</td>\n",
       "      <td>-0.001852</td>\n",
       "      <td>0.001852</td>\n",
       "    </tr>\n",
       "    <tr>\n",
       "      <th>2121</th>\n",
       "      <td>0.0</td>\n",
       "      <td>-0.000963</td>\n",
       "      <td>0.000963</td>\n",
       "    </tr>\n",
       "    <tr>\n",
       "      <th>944</th>\n",
       "      <td>0.0</td>\n",
       "      <td>-0.006978</td>\n",
       "      <td>0.006978</td>\n",
       "    </tr>\n",
       "    <tr>\n",
       "      <th>...</th>\n",
       "      <td>...</td>\n",
       "      <td>...</td>\n",
       "      <td>...</td>\n",
       "    </tr>\n",
       "    <tr>\n",
       "      <th>1927</th>\n",
       "      <td>0.0</td>\n",
       "      <td>0.000000</td>\n",
       "      <td>0.000000</td>\n",
       "    </tr>\n",
       "    <tr>\n",
       "      <th>9830</th>\n",
       "      <td>0.0</td>\n",
       "      <td>-0.028375</td>\n",
       "      <td>0.028375</td>\n",
       "    </tr>\n",
       "    <tr>\n",
       "      <th>10868</th>\n",
       "      <td>0.0</td>\n",
       "      <td>-0.000709</td>\n",
       "      <td>0.000709</td>\n",
       "    </tr>\n",
       "    <tr>\n",
       "      <th>3314</th>\n",
       "      <td>0.0</td>\n",
       "      <td>-0.005152</td>\n",
       "      <td>0.005152</td>\n",
       "    </tr>\n",
       "    <tr>\n",
       "      <th>3635</th>\n",
       "      <td>0.0</td>\n",
       "      <td>0.000000</td>\n",
       "      <td>0.000000</td>\n",
       "    </tr>\n",
       "  </tbody>\n",
       "</table>\n",
       "<p>2274 rows × 3 columns</p>\n",
       "</div>"
      ],
      "text/plain": [
       "       prawdziwe  predykcja   roznica\n",
       "7484         0.0  -0.028375  0.028375\n",
       "11234        0.0  -0.036468  0.036468\n",
       "7332         0.0  -0.001852  0.001852\n",
       "2121         0.0  -0.000963  0.000963\n",
       "944          0.0  -0.006978  0.006978\n",
       "...          ...        ...       ...\n",
       "1927         0.0   0.000000  0.000000\n",
       "9830         0.0  -0.028375  0.028375\n",
       "10868        0.0  -0.000709  0.000709\n",
       "3314         0.0  -0.005152  0.005152\n",
       "3635         0.0   0.000000  0.000000\n",
       "\n",
       "[2274 rows x 3 columns]"
      ]
     },
     "execution_count": 77,
     "metadata": {},
     "output_type": "execute_result"
    }
   ],
   "source": [
    "wynik3"
   ]
  },
  {
   "cell_type": "markdown",
   "id": "polished-academy",
   "metadata": {},
   "source": [
    "# 3. Przewidywanie kiedy nastąpi przegrzanie w pokoju: hol"
   ]
  },
  {
   "cell_type": "markdown",
   "id": "innocent-jacksonville",
   "metadata": {},
   "source": [
    "## 3.1 LogisticRegression"
   ]
  },
  {
   "cell_type": "code",
   "execution_count": 78,
   "id": "ready-reviewer",
   "metadata": {},
   "outputs": [],
   "source": [
    "dane_y = hol_inne_df['przegrzanie']\n",
    "dane_x = hol_inne_df.drop(['t_hol','przegrzanie','T(t)-T(Sp)','Np_grz'] , axis=1)\n",
    "\n",
    "train_x, test_x, train_y, test_y = train_test_split(dane_x, dane_y, test_size=0.2, random_state=0)"
   ]
  },
  {
   "cell_type": "markdown",
   "id": "permanent-exercise",
   "metadata": {},
   "source": [
    "**W przypadku modeli klasyfikujących dobrą praktyką jest standaryzacja danych:**"
   ]
  },
  {
   "cell_type": "code",
   "execution_count": 79,
   "id": "pursuant-rider",
   "metadata": {},
   "outputs": [],
   "source": [
    "#StandardScaler\n",
    "from sklearn.preprocessing import StandardScaler\n",
    "scaler = StandardScaler()\n",
    "x_train_scaled = scaler.fit_transform(train_x)\n",
    "x_test_scaled = scaler.fit_transform(test_x)"
   ]
  },
  {
   "cell_type": "markdown",
   "id": "oriented-martial",
   "metadata": {},
   "source": [
    "**Trenowanie modelu**"
   ]
  },
  {
   "cell_type": "code",
   "execution_count": 80,
   "id": "regulated-surveillance",
   "metadata": {},
   "outputs": [
    {
     "name": "stdout",
     "output_type": "stream",
     "text": [
      "WYNIKI: \n",
      "acc:  0.7546174142480211\n"
     ]
    }
   ],
   "source": [
    "lg = LogisticRegression(C=20, max_iter=1000)\n",
    "lg.fit(x_train_scaled,train_y)\n",
    "acc_lg_sc= lg.score(x_test_scaled, test_y)\n",
    "print(\"WYNIKI: \")\n",
    "print(\"acc: \", acc_lg_sc)"
   ]
  },
  {
   "cell_type": "markdown",
   "id": "fossil-peninsula",
   "metadata": {},
   "source": [
    "**Tabela zawierająca informacje o wynikach `false negative` oraz `false positive`**"
   ]
  },
  {
   "cell_type": "code",
   "execution_count": 81,
   "id": "senior-berkeley",
   "metadata": {},
   "outputs": [
    {
     "name": "stdout",
     "output_type": "stream",
     "text": [
      "[[ 270  484]\n",
      " [  74 1446]]\n"
     ]
    }
   ],
   "source": [
    "pred_y = lg.predict(x_test_scaled)\n",
    "print(metrics.confusion_matrix(test_y,pred_y))"
   ]
  },
  {
   "cell_type": "code",
   "execution_count": 82,
   "id": "selected-reading",
   "metadata": {},
   "outputs": [
    {
     "data": {
      "image/png": "[encoded data removed]",
      "text/plain": [
       "<Figure size 432x288 with 2 Axes>"
      ]
     },
     "metadata": {},
     "output_type": "display_data"
    }
   ],
   "source": [
    "plot_confusion_matrix(lg, x_test_scaled, test_y)\n",
    "plt.show()"
   ]
  },
  {
   "cell_type": "markdown",
   "id": "adverse-community",
   "metadata": {},
   "source": [
    "**Ocena znaczenia poszczególnych cech**"
   ]
  },
  {
   "cell_type": "code",
   "execution_count": 83,
   "id": "resident-ozone",
   "metadata": {},
   "outputs": [
    {
     "name": "stdout",
     "output_type": "stream",
     "text": [
      "Cecha nr: 0, Score: 0.05563\n",
      "Cecha nr: 1, Score: -0.14666\n",
      "Cecha nr: 2, Score: -1.81288\n",
      "Cecha nr: 3, Score: 4.55570\n",
      "Cecha nr: 4, Score: -0.11515\n",
      "Cecha nr: 5, Score: 0.41525\n",
      "Cecha nr: 6, Score: 7.04942\n",
      "Cecha nr: 7, Score: 0.31662\n",
      "Cecha nr: 8, Score: 0.01306\n",
      "Cecha nr: 9, Score: -0.04195\n",
      "Cecha nr: 10, Score: -0.88945\n"
     ]
    },
    {
     "data": {
      "image/png": "[encoded data removed]",
      "text/plain": [
       "<Figure size 432x288 with 1 Axes>"
      ]
     },
     "metadata": {},
     "output_type": "display_data"
    }
   ],
   "source": [
    "importance = lg.coef_[0]\n",
    "\n",
    "# summarize feature importance\n",
    "for i,v in enumerate(importance):\n",
    "\tprint('Cecha nr: %0d, Score: %.5f' % (i,v))\n",
    "    \n",
    "# plot feature importance\n",
    "plt.bar([x for x in range(len(importance))], importance)\n",
    "plt.show()"
   ]
  },
  {
   "cell_type": "code",
   "execution_count": 84,
   "id": "institutional-toronto",
   "metadata": {},
   "outputs": [
    {
     "data": {
      "text/html": [
       "<div>\n",
       "<style scoped>\n",
       "    .dataframe tbody tr th:only-of-type {\n",
       "        vertical-align: middle;\n",
       "    }\n",
       "\n",
       "    .dataframe tbody tr th {\n",
       "        vertical-align: top;\n",
       "    }\n",
       "\n",
       "    .dataframe thead th {\n",
       "        text-align: right;\n",
       "    }\n",
       "</style>\n",
       "<table border=\"1\" class=\"dataframe\">\n",
       "  <thead>\n",
       "    <tr style=\"text-align: right;\">\n",
       "      <th></th>\n",
       "      <th>time</th>\n",
       "      <th>tryb_hol</th>\n",
       "      <th>g_hol</th>\n",
       "      <th>sp_hol</th>\n",
       "      <th>t_rosnąca?</th>\n",
       "      <th>t(x+1)-t(x)</th>\n",
       "      <th>blok_g</th>\n",
       "      <th>t_zew</th>\n",
       "      <th>cis_atm</th>\n",
       "      <th>czujnik_deszczu</th>\n",
       "      <th>wiglotnosc</th>\n",
       "    </tr>\n",
       "  </thead>\n",
       "  <tbody>\n",
       "    <tr>\n",
       "      <th>0</th>\n",
       "      <td>1601165700233000000</td>\n",
       "      <td>3</td>\n",
       "      <td>0</td>\n",
       "      <td>7.0</td>\n",
       "      <td>0</td>\n",
       "      <td>0.0</td>\n",
       "      <td>1.0</td>\n",
       "      <td>11.8</td>\n",
       "      <td>1001.0</td>\n",
       "      <td>0.0</td>\n",
       "      <td>87.0</td>\n",
       "    </tr>\n",
       "    <tr>\n",
       "      <th>1</th>\n",
       "      <td>1601166600251000000</td>\n",
       "      <td>3</td>\n",
       "      <td>0</td>\n",
       "      <td>7.0</td>\n",
       "      <td>0</td>\n",
       "      <td>-0.3</td>\n",
       "      <td>1.0</td>\n",
       "      <td>11.6</td>\n",
       "      <td>1001.0</td>\n",
       "      <td>0.0</td>\n",
       "      <td>86.0</td>\n",
       "    </tr>\n",
       "    <tr>\n",
       "      <th>2</th>\n",
       "      <td>1601167500267000000</td>\n",
       "      <td>3</td>\n",
       "      <td>0</td>\n",
       "      <td>7.0</td>\n",
       "      <td>0</td>\n",
       "      <td>0.0</td>\n",
       "      <td>1.0</td>\n",
       "      <td>11.6</td>\n",
       "      <td>1001.0</td>\n",
       "      <td>0.0</td>\n",
       "      <td>87.0</td>\n",
       "    </tr>\n",
       "    <tr>\n",
       "      <th>3</th>\n",
       "      <td>1601168400294000000</td>\n",
       "      <td>3</td>\n",
       "      <td>0</td>\n",
       "      <td>7.0</td>\n",
       "      <td>0</td>\n",
       "      <td>0.0</td>\n",
       "      <td>1.0</td>\n",
       "      <td>11.5</td>\n",
       "      <td>1001.0</td>\n",
       "      <td>0.0</td>\n",
       "      <td>87.0</td>\n",
       "    </tr>\n",
       "    <tr>\n",
       "      <th>4</th>\n",
       "      <td>1601169300309000000</td>\n",
       "      <td>3</td>\n",
       "      <td>0</td>\n",
       "      <td>7.0</td>\n",
       "      <td>0</td>\n",
       "      <td>0.0</td>\n",
       "      <td>1.0</td>\n",
       "      <td>11.5</td>\n",
       "      <td>1001.0</td>\n",
       "      <td>0.0</td>\n",
       "      <td>88.0</td>\n",
       "    </tr>\n",
       "    <tr>\n",
       "      <th>...</th>\n",
       "      <td>...</td>\n",
       "      <td>...</td>\n",
       "      <td>...</td>\n",
       "      <td>...</td>\n",
       "      <td>...</td>\n",
       "      <td>...</td>\n",
       "      <td>...</td>\n",
       "      <td>...</td>\n",
       "      <td>...</td>\n",
       "      <td>...</td>\n",
       "      <td>...</td>\n",
       "    </tr>\n",
       "    <tr>\n",
       "      <th>11364</th>\n",
       "      <td>1611222300982000000</td>\n",
       "      <td>1</td>\n",
       "      <td>0</td>\n",
       "      <td>22.0</td>\n",
       "      <td>0</td>\n",
       "      <td>0.0</td>\n",
       "      <td>0.0</td>\n",
       "      <td>-1.9</td>\n",
       "      <td>1019.0</td>\n",
       "      <td>0.0</td>\n",
       "      <td>100.0</td>\n",
       "    </tr>\n",
       "    <tr>\n",
       "      <th>11365</th>\n",
       "      <td>1611223200999000000</td>\n",
       "      <td>1</td>\n",
       "      <td>0</td>\n",
       "      <td>22.0</td>\n",
       "      <td>0</td>\n",
       "      <td>0.0</td>\n",
       "      <td>0.0</td>\n",
       "      <td>-1.9</td>\n",
       "      <td>1019.0</td>\n",
       "      <td>0.0</td>\n",
       "      <td>100.0</td>\n",
       "    </tr>\n",
       "    <tr>\n",
       "      <th>11366</th>\n",
       "      <td>1611224100018000000</td>\n",
       "      <td>1</td>\n",
       "      <td>0</td>\n",
       "      <td>22.0</td>\n",
       "      <td>0</td>\n",
       "      <td>0.0</td>\n",
       "      <td>0.0</td>\n",
       "      <td>-1.9</td>\n",
       "      <td>1019.0</td>\n",
       "      <td>0.0</td>\n",
       "      <td>100.0</td>\n",
       "    </tr>\n",
       "    <tr>\n",
       "      <th>11367</th>\n",
       "      <td>1611225000037000000</td>\n",
       "      <td>1</td>\n",
       "      <td>0</td>\n",
       "      <td>22.0</td>\n",
       "      <td>0</td>\n",
       "      <td>-0.2</td>\n",
       "      <td>0.0</td>\n",
       "      <td>-1.9</td>\n",
       "      <td>1019.0</td>\n",
       "      <td>0.0</td>\n",
       "      <td>100.0</td>\n",
       "    </tr>\n",
       "    <tr>\n",
       "      <th>11368</th>\n",
       "      <td>1611225900052000000</td>\n",
       "      <td>1</td>\n",
       "      <td>0</td>\n",
       "      <td>22.0</td>\n",
       "      <td>0</td>\n",
       "      <td>0.0</td>\n",
       "      <td>0.0</td>\n",
       "      <td>-1.9</td>\n",
       "      <td>1019.0</td>\n",
       "      <td>0.0</td>\n",
       "      <td>100.0</td>\n",
       "    </tr>\n",
       "  </tbody>\n",
       "</table>\n",
       "<p>11369 rows × 11 columns</p>\n",
       "</div>"
      ],
      "text/plain": [
       "                      time  tryb_hol  g_hol  sp_hol  t_rosnąca?  t(x+1)-t(x)  \\\n",
       "0      1601165700233000000         3      0     7.0           0          0.0   \n",
       "1      1601166600251000000         3      0     7.0           0         -0.3   \n",
       "2      1601167500267000000         3      0     7.0           0          0.0   \n",
       "3      1601168400294000000         3      0     7.0           0          0.0   \n",
       "4      1601169300309000000         3      0     7.0           0          0.0   \n",
       "...                    ...       ...    ...     ...         ...          ...   \n",
       "11364  1611222300982000000         1      0    22.0           0          0.0   \n",
       "11365  1611223200999000000         1      0    22.0           0          0.0   \n",
       "11366  1611224100018000000         1      0    22.0           0          0.0   \n",
       "11367  1611225000037000000         1      0    22.0           0         -0.2   \n",
       "11368  1611225900052000000         1      0    22.0           0          0.0   \n",
       "\n",
       "       blok_g  t_zew  cis_atm  czujnik_deszczu  wiglotnosc  \n",
       "0         1.0   11.8   1001.0              0.0        87.0  \n",
       "1         1.0   11.6   1001.0              0.0        86.0  \n",
       "2         1.0   11.6   1001.0              0.0        87.0  \n",
       "3         1.0   11.5   1001.0              0.0        87.0  \n",
       "4         1.0   11.5   1001.0              0.0        88.0  \n",
       "...       ...    ...      ...              ...         ...  \n",
       "11364     0.0   -1.9   1019.0              0.0       100.0  \n",
       "11365     0.0   -1.9   1019.0              0.0       100.0  \n",
       "11366     0.0   -1.9   1019.0              0.0       100.0  \n",
       "11367     0.0   -1.9   1019.0              0.0       100.0  \n",
       "11368     0.0   -1.9   1019.0              0.0       100.0  \n",
       "\n",
       "[11369 rows x 11 columns]"
      ]
     },
     "execution_count": 84,
     "metadata": {},
     "output_type": "execute_result"
    }
   ],
   "source": [
    "hol_inne_df.drop(['t_hol','przegrzanie','T(t)-T(Sp)','Np_grz'],axis=1)"
   ]
  },
  {
   "cell_type": "markdown",
   "id": "received-motel",
   "metadata": {},
   "source": [
    "**Wnioski:**"
   ]
  },
  {
   "cell_type": "markdown",
   "id": "behavioral-turkey",
   "metadata": {},
   "source": [
    "Cel projektu został częściowo osiągnięty. Szczegółowa analiza danych pozwoliła zbadać korelację pomiędzy wartosciami ze zbiorów danych i przerobić dane w odpowiedni sposób, który umożliwia wytrenowanie modeli uczenia maszynowego. Wytrenowane modele przewidują w lepszy lub gorszy sposób temperaturę w danym pokoju, zmianę temperatury, fakt czy w pokoju nastąpi przegrzanie (czyli wzrost temperatury pokoju powyżej zadanego poziomu).\n",
    "\n",
    "Efekty projektu sugerują kilka podstawowych rozwiązań, które można zastosować, aby zlikwidować fakt zbyt wysokiego wzrostu temperatury. Pierwszym z nich jest operowanie na SetPointcie danego pokoju, w zależności od przewidywanych temperatur. Można połączyć wyniki z wszystkich modeli użytych w projekcie i zmieniać wartości SetPointa. Kolejnym rozwiązaniem jest operowanie na blokadzie grzejników w danym pokoju lub blokadzie ogrzewania. W podobny sposób, można zmodyfikować układ grzewczy, aby blokował grzejniki, gdy efekt \"niepotrzebne grzanie\" występuje. Ostatnim rozwiązaniem może być połączenie dwóch ostatnich rozwiązań bazując na szybkości zmiany temperatury. Jeśli wykryjemy, że przyrost temperatury jest wzglednie wysoki możemy założyć, że ogrzewanie powinno być wyłączone odpowiednio szybciej.\n"
   ]
  }
 ],
 "metadata": {
  "kernelspec": {
   "display_name": "Python 3",
   "language": "python",
   "name": "python3"
  },
  "language_info": {
   "codemirror_mode": {
    "name": "ipython",
    "version": 3
   },
   "file_extension": ".py",
   "mimetype": "text/x-python",
   "name": "python",
   "nbconvert_exporter": "python",
   "pygments_lexer": "ipython3",
   "version": "3.9.1"
  }
 },
 "nbformat": 4,
 "nbformat_minor": 5
}
